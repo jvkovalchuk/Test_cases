{
 "cells": [
  {
   "cell_type": "markdown",
   "metadata": {},
   "source": [
    "## Парсинг данных"
   ]
  },
  {
   "cell_type": "markdown",
   "metadata": {},
   "source": [
    "* Соберем все стихотворения Корнея Чуковского на сайте 'https://rustih.ru/kornej-chukovskij/'."
   ]
  },
  {
   "cell_type": "markdown",
   "metadata": {},
   "source": [
    "### **Работа с библиотекой beautifulsoup4**"
   ]
  },
  {
   "cell_type": "code",
   "execution_count": 1,
   "metadata": {},
   "outputs": [
    {
     "name": "stdout",
     "output_type": "stream",
     "text": [
      "Defaulting to user installation because normal site-packages is not writeable\n",
      "Requirement already satisfied: beautifulsoup4 in /opt/conda/lib/python3.7/site-packages (4.8.0)\n",
      "Requirement already satisfied: soupsieve>=1.2 in /opt/conda/lib/python3.7/site-packages (from beautifulsoup4) (2.0.1)\n"
     ]
    }
   ],
   "source": [
    "!pip install beautifulsoup4"
   ]
  },
  {
   "cell_type": "markdown",
   "metadata": {},
   "source": [
    "Импорт библиотек для осуществления запросов и парсинга, а также для работы с таблицами"
   ]
  },
  {
   "cell_type": "code",
   "execution_count": 2,
   "metadata": {},
   "outputs": [],
   "source": [
    "import requests\n",
    "from bs4 import BeautifulSoup\n",
    "import pandas as pd"
   ]
  },
  {
   "cell_type": "code",
   "execution_count": 3,
   "metadata": {},
   "outputs": [
    {
     "name": "stdout",
     "output_type": "stream",
     "text": [
      "Запрос прошел успешно!\n"
     ]
    }
   ],
   "source": [
    "url = 'https://rustih.ru/kornej-chukovskij/'\n",
    "\n",
    "response = requests.get(url)\n",
    "\n",
    "if response.status_code == 200:\n",
    "    print('Запрос прошел успешно!')\n",
    "else:\n",
    "    print(f'Ошибка! Response code: {response.status_code}')\n",
    "    print(f'URL: {url}')\n",
    "    print('--------------')"
   ]
  },
  {
   "cell_type": "markdown",
   "metadata": {},
   "source": [
    "Иногда владельцы сайтов хотят помешать другим парсить сайт. Для этого вводятся дополнительные проверки запроса на сервер.\n",
    "\n",
    "Самая частая проверка состоит в извлечении информации об используемом браузере с заголовка запроса.\n",
    "Чтобы сказать сайту, что мы \"браузер\", добавим информацию об user_agent в наш скрипт.\n",
    "\n",
    "Такие заголовки можно найти на просторах сети, или посмотреть в конфигурациях браузера."
   ]
  },
  {
   "cell_type": "code",
   "execution_count": 4,
   "metadata": {},
   "outputs": [
    {
     "name": "stdout",
     "output_type": "stream",
     "text": [
      "Запрос прошел успешно!\n"
     ]
    }
   ],
   "source": [
    "user_agent = 'Mozilla/5.0 (Macintosh; Intel Mac OS X 10_9_3) AppleWebKit/537.36 (KHTML, like Gecko) Chrome/35.0.1916.47 Safari/537.36'\n",
    "headers = {'User-Agent': user_agent}\n",
    "\n",
    "response = requests.get(url, headers=headers, allow_redirects=True)\n",
    "\n",
    "page_text = ''\n",
    "if response.status_code == 200:\n",
    "    print('Запрос прошел успешно!')\n",
    "    page_text = response.text\n",
    "else:\n",
    "    print(f'Ошибка! Response code: {response.status_code}')\n",
    "    print(f'URL: {url}')\n",
    "    print('--------------')"
   ]
  },
  {
   "cell_type": "code",
   "execution_count": 5,
   "metadata": {},
   "outputs": [
    {
     "name": "stdout",
     "output_type": "stream",
     "text": [
      "\n",
      "<!DOCTYPE html>\n",
      "<html lang=\"ru\" prefix=\"og: http://ogp.me/ns#\">\n",
      "<head>\n",
      "<meta http-equiv=\"x-dns-prefetch-control\" content=\"on\">\n",
      "<link href=\"//googleads.g.doubleclick.net\" rel=\"dns-prefetch\" />\n",
      "<link href=\"//pagead2.googlesyndication.com\" rel=\"dns-prefetch\" />\n",
      "<link href=\"//ajax.googleapis.com\" rel=\"dns-prefetch\">\n",
      "<link href=\"//tpc.googlesyndication.com\" rel=\"dns-prefetch\"/>\n",
      "<link href=\"//googleads.g.doubleclick.net\" rel=\"preconnect\" />\n",
      "<link href=\"//pagead2.googlesyndication.com\" rel=\"preconnect\" />\n",
      "<link href=\"//ajax.googleapis.com\" rel=\"preconnect\">\n",
      "<link href=\"//tpc.googlesyndication.com\" rel=\"preconnect\" />\n",
      "<script async src=\"//pagead2.googlesyndication.com/pagead/js/adsbygoogle.js\"></script>\n",
      "<link rel=\"shortcut icon\" href=\"https://rustih.ru/favicon.ico\" type=\"image/x-icon\" />\n",
      "<meta charset=\"UTF-8\">\n",
      "<meta name=\"viewport\" content=\"width=device-width, initial-scale=1\">\n",
      "<title>Корней Чуковский стихи: читать стихотворения, произведения Корнея Ивановича Чуковского - Стишки, поэзия поэта\n"
     ]
    }
   ],
   "source": [
    "print(page_text[:1000])"
   ]
  },
  {
   "cell_type": "code",
   "execution_count": 6,
   "metadata": {},
   "outputs": [],
   "source": [
    "page_bs = BeautifulSoup(page_text)"
   ]
  },
  {
   "cell_type": "code",
   "execution_count": 7,
   "metadata": {},
   "outputs": [],
   "source": [
    "coverpage = page_bs.find('div', {'id': 'primary'})"
   ]
  },
  {
   "cell_type": "code",
   "execution_count": 8,
   "metadata": {},
   "outputs": [
    {
     "name": "stdout",
     "output_type": "stream",
     "text": [
      "Количество найденных блоков: 42\n"
     ]
    }
   ],
   "source": [
    "shelf_containers = coverpage.find_all('div', {'class': ['post-card-one']})\n",
    "\n",
    "print(f'Количество найденных блоков: {len(shelf_containers)}')"
   ]
  },
  {
   "cell_type": "markdown",
   "metadata": {},
   "source": [
    "**Извлечем название стихотворения и название ссылки на него, чтобы затем по этой ссылке получить текст самого стихотворения**"
   ]
  },
  {
   "cell_type": "code",
   "execution_count": 9,
   "metadata": {},
   "outputs": [
    {
     "name": "stdout",
     "output_type": "stream",
     "text": [
      "Заголовок: Корней Чуковский — Перед праздником зима\n",
      "Ссылка: https://rustih.ru/kornej-chukovskij-pered-prazdnikom-zima/\n",
      "------------\n",
      "\n"
     ]
    }
   ],
   "source": [
    "title_list = []\n",
    "url_list = []\n",
    "i = 0\n",
    "for shelf in shelf_containers:\n",
    "    # Извлечение названия заголовка\n",
    "    title_container = shelf.find('div', {'class': 'entry-title'})\n",
    "    title_text = title_container.find('a').text\n",
    "    title_list.append(title_text)\n",
    "    \n",
    "    # Извлечение ссылки\n",
    "    url_text = title_container.find('a')['href']\n",
    "    url_list.append(url_text)\n",
    "    \n",
    "print(f'Заголовок: {title_text}')\n",
    "print(f'Ссылка: {url_text}')\n",
    "print('------------\\n')"
   ]
  },
  {
   "cell_type": "markdown",
   "metadata": {},
   "source": [
    "Запишем полученные результаты в датафрейм, чтобы было удобно работать с данными"
   ]
  },
  {
   "cell_type": "code",
   "execution_count": 10,
   "metadata": {},
   "outputs": [
    {
     "data": {
      "text/html": [
       "<div>\n",
       "<style scoped>\n",
       "    .dataframe tbody tr th:only-of-type {\n",
       "        vertical-align: middle;\n",
       "    }\n",
       "\n",
       "    .dataframe tbody tr th {\n",
       "        vertical-align: top;\n",
       "    }\n",
       "\n",
       "    .dataframe thead th {\n",
       "        text-align: right;\n",
       "    }\n",
       "</style>\n",
       "<table border=\"1\" class=\"dataframe\">\n",
       "  <thead>\n",
       "    <tr style=\"text-align: right;\">\n",
       "      <th></th>\n",
       "      <th>title</th>\n",
       "      <th>url</th>\n",
       "    </tr>\n",
       "  </thead>\n",
       "  <tbody>\n",
       "    <tr>\n",
       "      <td>0</td>\n",
       "      <td>Корней Чуковский — Айболит</td>\n",
       "      <td>https://rustih.ru/kornej-chukovskij-ajbolit/</td>\n",
       "    </tr>\n",
       "    <tr>\n",
       "      <td>1</td>\n",
       "      <td>Корней Чуковский — Мойдодыр</td>\n",
       "      <td>https://rustih.ru/kornej-chukovskij-mojdodyr/</td>\n",
       "    </tr>\n",
       "    <tr>\n",
       "      <td>2</td>\n",
       "      <td>Корней Чуковский — Краденое солнце</td>\n",
       "      <td>https://rustih.ru/kornej-chukovskij-kradenoe-s...</td>\n",
       "    </tr>\n",
       "    <tr>\n",
       "      <td>3</td>\n",
       "      <td>Корней Чуковский — Чудо-дерево</td>\n",
       "      <td>https://rustih.ru/kornej-chukovskij-chudo-derevo/</td>\n",
       "    </tr>\n",
       "    <tr>\n",
       "      <td>4</td>\n",
       "      <td>Корней Чуковский — Бармалей</td>\n",
       "      <td>https://rustih.ru/kornej-chukovskij-barmalej/</td>\n",
       "    </tr>\n",
       "  </tbody>\n",
       "</table>\n",
       "</div>"
      ],
      "text/plain": [
       "                                title  \\\n",
       "0          Корней Чуковский — Айболит   \n",
       "1         Корней Чуковский — Мойдодыр   \n",
       "2  Корней Чуковский — Краденое солнце   \n",
       "3      Корней Чуковский — Чудо-дерево   \n",
       "4         Корней Чуковский — Бармалей   \n",
       "\n",
       "                                                 url  \n",
       "0       https://rustih.ru/kornej-chukovskij-ajbolit/  \n",
       "1      https://rustih.ru/kornej-chukovskij-mojdodyr/  \n",
       "2  https://rustih.ru/kornej-chukovskij-kradenoe-s...  \n",
       "3  https://rustih.ru/kornej-chukovskij-chudo-derevo/  \n",
       "4      https://rustih.ru/kornej-chukovskij-barmalej/  "
      ]
     },
     "execution_count": 10,
     "metadata": {},
     "output_type": "execute_result"
    }
   ],
   "source": [
    "url_df = pd.DataFrame({'title': title_list, 'url': url_list})\n",
    "url_df.head(5)"
   ]
  },
  {
   "cell_type": "markdown",
   "metadata": {},
   "source": [
    "Результаты можно сохранить в файл, чтобы не потерять :) "
   ]
  },
  {
   "cell_type": "code",
   "execution_count": 11,
   "metadata": {},
   "outputs": [],
   "source": [
    "url_df.to_csv('poems_url.csv', index=False)\n",
    "#url_df.to_excel('themes_url.xls', index=False)"
   ]
  },
  {
   "cell_type": "markdown",
   "metadata": {},
   "source": [
    "**По ссылкам парсим текст стихотворений**"
   ]
  },
  {
   "cell_type": "code",
   "execution_count": 12,
   "metadata": {},
   "outputs": [],
   "source": [
    "titles = []\n",
    "poems = []\n",
    "for title, url in url_df.values:\n",
    "    user_agent = 'Mozilla/5.0 (Macintosh; Intel Mac OS X 10_9_3) AppleWebKit/537.36 (KHTML, like Gecko) Chrome/35.0.1916.47 Safari/537.36'\n",
    "    headers = {'User-Agent': user_agent}\n",
    "\n",
    "    response = requests.get(url, headers=headers, allow_redirects=True)\n",
    "\n",
    "    page_text = ''\n",
    "    if response.status_code == 200:\n",
    "        #print('Запрос прошел успешно!')\n",
    "        page_text = response.text\n",
    "    else:\n",
    "        print(f'Ошибка! Response code: {response.status_code}')\n",
    "        print(f'URL: {url}')\n",
    "        print('--------------')\n",
    "    \n",
    "    page_parser = BeautifulSoup(page_text)\n",
    "    attraction_list = page_parser.find('main', {'id': ['main']})\n",
    "        \n",
    "    header = attraction_list.find('header', {'class': ['entry-header']})\n",
    "    t = header.find('h1').text\n",
    "    titles.append(t)\n",
    "\n",
    "    text_poems_list = attraction_list.find('div', {'class': ['entry-content poem-text']})\n",
    "    text_poems_list = text_poems_list.find_all('p')\n",
    "    poems.append(text_poems_list)\n",
    "\n",
    "df = pd.DataFrame({'title': titles, 'text': poems})\n",
    "df.to_csv('title_text.csv', index=False)   "
   ]
  },
  {
   "cell_type": "markdown",
   "metadata": {},
   "source": [
    "Получили таблицу с названием стихотворения и его текстом"
   ]
  },
  {
   "cell_type": "code",
   "execution_count": 13,
   "metadata": {},
   "outputs": [
    {
     "data": {
      "text/html": [
       "<div>\n",
       "<style scoped>\n",
       "    .dataframe tbody tr th:only-of-type {\n",
       "        vertical-align: middle;\n",
       "    }\n",
       "\n",
       "    .dataframe tbody tr th {\n",
       "        vertical-align: top;\n",
       "    }\n",
       "\n",
       "    .dataframe thead th {\n",
       "        text-align: right;\n",
       "    }\n",
       "</style>\n",
       "<table border=\"1\" class=\"dataframe\">\n",
       "  <thead>\n",
       "    <tr style=\"text-align: right;\">\n",
       "      <th></th>\n",
       "      <th>title</th>\n",
       "      <th>text</th>\n",
       "    </tr>\n",
       "  </thead>\n",
       "  <tbody>\n",
       "    <tr>\n",
       "      <td>0</td>\n",
       "      <td>Корней Чуковский — Айболит: Стих</td>\n",
       "      <td>[[1], [Добрый доктор Айболит!, [], \\nОн под де...</td>\n",
       "    </tr>\n",
       "    <tr>\n",
       "      <td>1</td>\n",
       "      <td>Корней Чуковский — Мойдодыр: Стих</td>\n",
       "      <td>[[Одеяло, [], \\nУбежало,, [], \\nУлетела просты...</td>\n",
       "    </tr>\n",
       "    <tr>\n",
       "      <td>2</td>\n",
       "      <td>Корней Чуковский — Краденое солнце: Стих</td>\n",
       "      <td>[[Солнце по небу гуляло, [], \\nИ за тучу забеж...</td>\n",
       "    </tr>\n",
       "    <tr>\n",
       "      <td>3</td>\n",
       "      <td>Корней Чуковский — Чудо-дерево: Стих</td>\n",
       "      <td>[[Как у нашего Мирона, [], \\nНа носу сидит вор...</td>\n",
       "    </tr>\n",
       "    <tr>\n",
       "      <td>4</td>\n",
       "      <td>Корней Чуковский — Бармалей: Стих</td>\n",
       "      <td>[[I], [Маленькие дети!, [], \\nНи за что на све...</td>\n",
       "    </tr>\n",
       "  </tbody>\n",
       "</table>\n",
       "</div>"
      ],
      "text/plain": [
       "                                       title  \\\n",
       "0           Корней Чуковский — Айболит: Стих   \n",
       "1          Корней Чуковский — Мойдодыр: Стих   \n",
       "2   Корней Чуковский — Краденое солнце: Стих   \n",
       "3       Корней Чуковский — Чудо-дерево: Стих   \n",
       "4          Корней Чуковский — Бармалей: Стих   \n",
       "\n",
       "                                                text  \n",
       "0  [[1], [Добрый доктор Айболит!, [], \\nОн под де...  \n",
       "1  [[Одеяло, [], \\nУбежало,, [], \\nУлетела просты...  \n",
       "2  [[Солнце по небу гуляло, [], \\nИ за тучу забеж...  \n",
       "3  [[Как у нашего Мирона, [], \\nНа носу сидит вор...  \n",
       "4  [[I], [Маленькие дети!, [], \\nНи за что на све...  "
      ]
     },
     "execution_count": 13,
     "metadata": {},
     "output_type": "execute_result"
    }
   ],
   "source": [
    "df.head()"
   ]
  },
  {
   "cell_type": "code",
   "execution_count": 14,
   "metadata": {},
   "outputs": [
    {
     "data": {
      "text/plain": [
       "(42, 2)"
      ]
     },
     "execution_count": 14,
     "metadata": {},
     "output_type": "execute_result"
    }
   ],
   "source": [
    "df.shape"
   ]
  },
  {
   "cell_type": "markdown",
   "metadata": {},
   "source": [
    "Всего 42 стихотворения"
   ]
  },
  {
   "cell_type": "markdown",
   "metadata": {},
   "source": [
    "### **Почистим текст для удобной работы с ним вдальнейшем**"
   ]
  },
  {
   "cell_type": "markdown",
   "metadata": {},
   "source": [
    "* Удаляем пробелы вначале и вконце строк"
   ]
  },
  {
   "cell_type": "code",
   "execution_count": 15,
   "metadata": {},
   "outputs": [
    {
     "data": {
      "text/html": [
       "<div>\n",
       "<style scoped>\n",
       "    .dataframe tbody tr th:only-of-type {\n",
       "        vertical-align: middle;\n",
       "    }\n",
       "\n",
       "    .dataframe tbody tr th {\n",
       "        vertical-align: top;\n",
       "    }\n",
       "\n",
       "    .dataframe thead th {\n",
       "        text-align: right;\n",
       "    }\n",
       "</style>\n",
       "<table border=\"1\" class=\"dataframe\">\n",
       "  <thead>\n",
       "    <tr style=\"text-align: right;\">\n",
       "      <th></th>\n",
       "      <th>title</th>\n",
       "      <th>text</th>\n",
       "    </tr>\n",
       "  </thead>\n",
       "  <tbody>\n",
       "    <tr>\n",
       "      <td>0</td>\n",
       "      <td>Корней Чуковский — Айболит: Стих</td>\n",
       "      <td>[[1], [Добрый доктор Айболит!, [], \\nОн под де...</td>\n",
       "    </tr>\n",
       "    <tr>\n",
       "      <td>1</td>\n",
       "      <td>Корней Чуковский — Мойдодыр: Стих</td>\n",
       "      <td>[[Одеяло, [], \\nУбежало,, [], \\nУлетела просты...</td>\n",
       "    </tr>\n",
       "    <tr>\n",
       "      <td>2</td>\n",
       "      <td>Корней Чуковский — Краденое солнце: Стих</td>\n",
       "      <td>[[Солнце по небу гуляло, [], \\nИ за тучу забеж...</td>\n",
       "    </tr>\n",
       "    <tr>\n",
       "      <td>3</td>\n",
       "      <td>Корней Чуковский — Чудо-дерево: Стих</td>\n",
       "      <td>[[Как у нашего Мирона, [], \\nНа носу сидит вор...</td>\n",
       "    </tr>\n",
       "    <tr>\n",
       "      <td>4</td>\n",
       "      <td>Корней Чуковский — Бармалей: Стих</td>\n",
       "      <td>[[I], [Маленькие дети!, [], \\nНи за что на све...</td>\n",
       "    </tr>\n",
       "  </tbody>\n",
       "</table>\n",
       "</div>"
      ],
      "text/plain": [
       "                                      title  \\\n",
       "0          Корней Чуковский — Айболит: Стих   \n",
       "1         Корней Чуковский — Мойдодыр: Стих   \n",
       "2  Корней Чуковский — Краденое солнце: Стих   \n",
       "3      Корней Чуковский — Чудо-дерево: Стих   \n",
       "4         Корней Чуковский — Бармалей: Стих   \n",
       "\n",
       "                                                text  \n",
       "0  [[1], [Добрый доктор Айболит!, [], \\nОн под де...  \n",
       "1  [[Одеяло, [], \\nУбежало,, [], \\nУлетела просты...  \n",
       "2  [[Солнце по небу гуляло, [], \\nИ за тучу забеж...  \n",
       "3  [[Как у нашего Мирона, [], \\nНа носу сидит вор...  \n",
       "4  [[I], [Маленькие дети!, [], \\nНи за что на све...  "
      ]
     },
     "execution_count": 15,
     "metadata": {},
     "output_type": "execute_result"
    }
   ],
   "source": [
    "df['title'] = df['title'].str.strip()\n",
    "df.head()"
   ]
  },
  {
   "cell_type": "markdown",
   "metadata": {},
   "source": [
    "* Чистим текст от ненужныхсимволов, разбиваем на отдельные элементы списка"
   ]
  },
  {
   "cell_type": "code",
   "execution_count": 16,
   "metadata": {},
   "outputs": [
    {
     "data": {
      "text/html": [
       "<div>\n",
       "<style scoped>\n",
       "    .dataframe tbody tr th:only-of-type {\n",
       "        vertical-align: middle;\n",
       "    }\n",
       "\n",
       "    .dataframe tbody tr th {\n",
       "        vertical-align: top;\n",
       "    }\n",
       "\n",
       "    .dataframe thead th {\n",
       "        text-align: right;\n",
       "    }\n",
       "</style>\n",
       "<table border=\"1\" class=\"dataframe\">\n",
       "  <thead>\n",
       "    <tr style=\"text-align: right;\">\n",
       "      <th></th>\n",
       "      <th>title</th>\n",
       "      <th>text</th>\n",
       "    </tr>\n",
       "  </thead>\n",
       "  <tbody>\n",
       "    <tr>\n",
       "      <td>0</td>\n",
       "      <td>[Корней Чуковский ,  Айболит, Стих]</td>\n",
       "      <td>[[1], [Добрый доктор Айболит!, [], \\nОн под де...</td>\n",
       "    </tr>\n",
       "    <tr>\n",
       "      <td>1</td>\n",
       "      <td>[Корней Чуковский ,  Мойдодыр, Стих]</td>\n",
       "      <td>[[Одеяло, [], \\nУбежало,, [], \\nУлетела просты...</td>\n",
       "    </tr>\n",
       "    <tr>\n",
       "      <td>2</td>\n",
       "      <td>[Корней Чуковский ,  Краденое солнце, Стих]</td>\n",
       "      <td>[[Солнце по небу гуляло, [], \\nИ за тучу забеж...</td>\n",
       "    </tr>\n",
       "    <tr>\n",
       "      <td>3</td>\n",
       "      <td>[Корней Чуковский ,  Чудо-дерево, Стих]</td>\n",
       "      <td>[[Как у нашего Мирона, [], \\nНа носу сидит вор...</td>\n",
       "    </tr>\n",
       "    <tr>\n",
       "      <td>4</td>\n",
       "      <td>[Корней Чуковский ,  Бармалей, Стих]</td>\n",
       "      <td>[[I], [Маленькие дети!, [], \\nНи за что на све...</td>\n",
       "    </tr>\n",
       "  </tbody>\n",
       "</table>\n",
       "</div>"
      ],
      "text/plain": [
       "                                         title  \\\n",
       "0          [Корней Чуковский ,  Айболит, Стих]   \n",
       "1         [Корней Чуковский ,  Мойдодыр, Стих]   \n",
       "2  [Корней Чуковский ,  Краденое солнце, Стих]   \n",
       "3      [Корней Чуковский ,  Чудо-дерево, Стих]   \n",
       "4         [Корней Чуковский ,  Бармалей, Стих]   \n",
       "\n",
       "                                                text  \n",
       "0  [[1], [Добрый доктор Айболит!, [], \\nОн под де...  \n",
       "1  [[Одеяло, [], \\nУбежало,, [], \\nУлетела просты...  \n",
       "2  [[Солнце по небу гуляло, [], \\nИ за тучу забеж...  \n",
       "3  [[Как у нашего Мирона, [], \\nНа носу сидит вор...  \n",
       "4  [[I], [Маленькие дети!, [], \\nНи за что на све...  "
      ]
     },
     "metadata": {},
     "output_type": "display_data"
    }
   ],
   "source": [
    "def clear_text(text):\n",
    "    new_text = ','.join(text.split('—'))\n",
    "    new_text = ','.join(new_text.split(': '))\n",
    "    return new_text.split(',')\n",
    "\n",
    "df['title'] = df['title'].apply(clear_text)\n",
    "display(df.head())"
   ]
  },
  {
   "cell_type": "markdown",
   "metadata": {},
   "source": [
    "* Выделяем отдельные столбцы \"автор\" и \"название стихотворения\""
   ]
  },
  {
   "cell_type": "code",
   "execution_count": 17,
   "metadata": {
    "scrolled": false
   },
   "outputs": [
    {
     "data": {
      "text/html": [
       "<div>\n",
       "<style scoped>\n",
       "    .dataframe tbody tr th:only-of-type {\n",
       "        vertical-align: middle;\n",
       "    }\n",
       "\n",
       "    .dataframe tbody tr th {\n",
       "        vertical-align: top;\n",
       "    }\n",
       "\n",
       "    .dataframe thead th {\n",
       "        text-align: right;\n",
       "    }\n",
       "</style>\n",
       "<table border=\"1\" class=\"dataframe\">\n",
       "  <thead>\n",
       "    <tr style=\"text-align: right;\">\n",
       "      <th></th>\n",
       "      <th>title</th>\n",
       "      <th>text</th>\n",
       "      <th>author</th>\n",
       "      <th>poem_title</th>\n",
       "    </tr>\n",
       "  </thead>\n",
       "  <tbody>\n",
       "    <tr>\n",
       "      <td>0</td>\n",
       "      <td>[Корней Чуковский ,  Айболит, Стих]</td>\n",
       "      <td>[[1], [Добрый доктор Айболит!, [], \\nОн под де...</td>\n",
       "      <td>Корней Чуковский</td>\n",
       "      <td>Айболит</td>\n",
       "    </tr>\n",
       "    <tr>\n",
       "      <td>1</td>\n",
       "      <td>[Корней Чуковский ,  Мойдодыр, Стих]</td>\n",
       "      <td>[[Одеяло, [], \\nУбежало,, [], \\nУлетела просты...</td>\n",
       "      <td>Корней Чуковский</td>\n",
       "      <td>Мойдодыр</td>\n",
       "    </tr>\n",
       "    <tr>\n",
       "      <td>2</td>\n",
       "      <td>[Корней Чуковский ,  Краденое солнце, Стих]</td>\n",
       "      <td>[[Солнце по небу гуляло, [], \\nИ за тучу забеж...</td>\n",
       "      <td>Корней Чуковский</td>\n",
       "      <td>Краденое солнце</td>\n",
       "    </tr>\n",
       "    <tr>\n",
       "      <td>3</td>\n",
       "      <td>[Корней Чуковский ,  Чудо-дерево, Стих]</td>\n",
       "      <td>[[Как у нашего Мирона, [], \\nНа носу сидит вор...</td>\n",
       "      <td>Корней Чуковский</td>\n",
       "      <td>Чудо-дерево</td>\n",
       "    </tr>\n",
       "    <tr>\n",
       "      <td>4</td>\n",
       "      <td>[Корней Чуковский ,  Бармалей, Стих]</td>\n",
       "      <td>[[I], [Маленькие дети!, [], \\nНи за что на све...</td>\n",
       "      <td>Корней Чуковский</td>\n",
       "      <td>Бармалей</td>\n",
       "    </tr>\n",
       "  </tbody>\n",
       "</table>\n",
       "</div>"
      ],
      "text/plain": [
       "                                         title  \\\n",
       "0          [Корней Чуковский ,  Айболит, Стих]   \n",
       "1         [Корней Чуковский ,  Мойдодыр, Стих]   \n",
       "2  [Корней Чуковский ,  Краденое солнце, Стих]   \n",
       "3      [Корней Чуковский ,  Чудо-дерево, Стих]   \n",
       "4         [Корней Чуковский ,  Бармалей, Стих]   \n",
       "\n",
       "                                                text            author  \\\n",
       "0  [[1], [Добрый доктор Айболит!, [], \\nОн под де...  Корней Чуковский   \n",
       "1  [[Одеяло, [], \\nУбежало,, [], \\nУлетела просты...  Корней Чуковский   \n",
       "2  [[Солнце по небу гуляло, [], \\nИ за тучу забеж...  Корней Чуковский   \n",
       "3  [[Как у нашего Мирона, [], \\nНа носу сидит вор...  Корней Чуковский   \n",
       "4  [[I], [Маленькие дети!, [], \\nНи за что на све...  Корней Чуковский   \n",
       "\n",
       "        poem_title  \n",
       "0          Айболит  \n",
       "1         Мойдодыр  \n",
       "2  Краденое солнце  \n",
       "3      Чудо-дерево  \n",
       "4         Бармалей  "
      ]
     },
     "metadata": {},
     "output_type": "display_data"
    }
   ],
   "source": [
    "def split_list(list, i):\n",
    "    text = list[i]\n",
    "    return text.strip()\n",
    "df['author'] = df['title'].apply(split_list, i=0)\n",
    "df['poem_title'] = df['title'].apply(split_list, i=1)\n",
    "display(df.head())"
   ]
  },
  {
   "cell_type": "code",
   "execution_count": 18,
   "metadata": {},
   "outputs": [
    {
     "data": {
      "text/plain": [
       "Index(['title', 'text', 'author', 'poem_title'], dtype='object')"
      ]
     },
     "execution_count": 18,
     "metadata": {},
     "output_type": "execute_result"
    }
   ],
   "source": [
    "df.columns"
   ]
  },
  {
   "cell_type": "markdown",
   "metadata": {},
   "source": [
    "* Создаем таблицу с нужными столбцами и сохраняем ее"
   ]
  },
  {
   "cell_type": "code",
   "execution_count": 19,
   "metadata": {},
   "outputs": [],
   "source": [
    "df = df.loc[:, ['text', 'poem_title']]"
   ]
  },
  {
   "cell_type": "code",
   "execution_count": 20,
   "metadata": {},
   "outputs": [
    {
     "data": {
      "text/html": [
       "<div>\n",
       "<style scoped>\n",
       "    .dataframe tbody tr th:only-of-type {\n",
       "        vertical-align: middle;\n",
       "    }\n",
       "\n",
       "    .dataframe tbody tr th {\n",
       "        vertical-align: top;\n",
       "    }\n",
       "\n",
       "    .dataframe thead th {\n",
       "        text-align: right;\n",
       "    }\n",
       "</style>\n",
       "<table border=\"1\" class=\"dataframe\">\n",
       "  <thead>\n",
       "    <tr style=\"text-align: right;\">\n",
       "      <th></th>\n",
       "      <th>text</th>\n",
       "      <th>poem_title</th>\n",
       "    </tr>\n",
       "  </thead>\n",
       "  <tbody>\n",
       "    <tr>\n",
       "      <td>0</td>\n",
       "      <td>[[1], [Добрый доктор Айболит!, [], \\nОн под де...</td>\n",
       "      <td>Айболит</td>\n",
       "    </tr>\n",
       "    <tr>\n",
       "      <td>1</td>\n",
       "      <td>[[Одеяло, [], \\nУбежало,, [], \\nУлетела просты...</td>\n",
       "      <td>Мойдодыр</td>\n",
       "    </tr>\n",
       "    <tr>\n",
       "      <td>2</td>\n",
       "      <td>[[Солнце по небу гуляло, [], \\nИ за тучу забеж...</td>\n",
       "      <td>Краденое солнце</td>\n",
       "    </tr>\n",
       "    <tr>\n",
       "      <td>3</td>\n",
       "      <td>[[Как у нашего Мирона, [], \\nНа носу сидит вор...</td>\n",
       "      <td>Чудо-дерево</td>\n",
       "    </tr>\n",
       "    <tr>\n",
       "      <td>4</td>\n",
       "      <td>[[I], [Маленькие дети!, [], \\nНи за что на све...</td>\n",
       "      <td>Бармалей</td>\n",
       "    </tr>\n",
       "  </tbody>\n",
       "</table>\n",
       "</div>"
      ],
      "text/plain": [
       "                                                text       poem_title\n",
       "0  [[1], [Добрый доктор Айболит!, [], \\nОн под де...          Айболит\n",
       "1  [[Одеяло, [], \\nУбежало,, [], \\nУлетела просты...         Мойдодыр\n",
       "2  [[Солнце по небу гуляло, [], \\nИ за тучу забеж...  Краденое солнце\n",
       "3  [[Как у нашего Мирона, [], \\nНа носу сидит вор...      Чудо-дерево\n",
       "4  [[I], [Маленькие дети!, [], \\nНи за что на све...         Бармалей"
      ]
     },
     "execution_count": 20,
     "metadata": {},
     "output_type": "execute_result"
    }
   ],
   "source": [
    "df.head()"
   ]
  },
  {
   "cell_type": "code",
   "execution_count": 21,
   "metadata": {},
   "outputs": [],
   "source": [
    "df.to_csv('poems_title.csv', index=False)"
   ]
  },
  {
   "cell_type": "markdown",
   "metadata": {},
   "source": [
    "### Парсинг данных осуществлен успешно. Найдены необходимые данные."
   ]
  }
 ],
 "metadata": {
  "kernelspec": {
   "display_name": "Python 3",
   "language": "python",
   "name": "python3"
  },
  "language_info": {
   "codemirror_mode": {
    "name": "ipython",
    "version": 3
   },
   "file_extension": ".py",
   "mimetype": "text/x-python",
   "name": "python",
   "nbconvert_exporter": "python",
   "pygments_lexer": "ipython3",
   "version": "3.7.8"
  },
  "toc": {
   "base_numbering": 1,
   "nav_menu": {},
   "number_sections": true,
   "sideBar": true,
   "skip_h1_title": true,
   "title_cell": "Table of Contents",
   "title_sidebar": "Contents",
   "toc_cell": false,
   "toc_position": {},
   "toc_section_display": true,
   "toc_window_display": true
  }
 },
 "nbformat": 4,
 "nbformat_minor": 4
}
