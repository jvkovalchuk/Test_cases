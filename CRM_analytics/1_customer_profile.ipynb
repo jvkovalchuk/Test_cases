{
 "cells": [
  {
   "cell_type": "markdown",
   "metadata": {},
   "source": [
    "# Определение профиля абонента"
   ]
  },
  {
   "cell_type": "markdown",
   "metadata": {},
   "source": [
    "## **Задачи:**  \n",
    "\n",
    "1. Необходимо определить профиль абонента, активно потребляющего интернет-трафик:\n",
    "\n",
    " 1.1. определите порог, с которого начинается активное потребление интернет-трафика,  \n",
    " 1.2. самостоятельно выберите наиболее значимые характеристики абонента для составления профиля.\n",
    "2. Кратко оцените качество и пригодность данных, предоставленных для анализа. Какая информация является избыточной и что стоило бы добавить."
   ]
  },
  {
   "cell_type": "markdown",
   "metadata": {},
   "source": [
    "**Листы файла содержат следующие данные:**\t\t\n",
    "\n",
    "**Абоненты** - Информация об абонентах\t\t\t\t\t\t\t\n",
    "**Начисления** -\tИнформация о начислениях указанных абонентов (за 1 месяц)\t\t\t\t\t\t\t\n",
    "**Трафики** -\tИнформация о голосовом и интернет-трафике указанных абонентов (за 1 месяц)\t\t\t\t\t\t\t"
   ]
  },
  {
   "cell_type": "markdown",
   "metadata": {},
   "source": [
    "## Решение"
   ]
  },
  {
   "cell_type": "markdown",
   "metadata": {},
   "source": [
    "Пропишем вспомогательные функции"
   ]
  },
  {
   "cell_type": "code",
   "execution_count": 481,
   "metadata": {},
   "outputs": [
    {
     "name": "stdout",
     "output_type": "stream",
     "text": [
      "3.7.8 | packaged by conda-forge | (default, Jul 31 2020, 02:25:08) \n",
      "[GCC 7.5.0]\n"
     ]
    }
   ],
   "source": [
    "import sys; print(sys.version)\n",
    "import pandas as pd\n",
    "import numpy as np\n",
    "import math\n",
    "import matplotlib.pyplot as plt\n",
    "import seaborn as sns\n",
    "from IPython.display import display\n",
    "# Оценка маркетинговых Кампаний\n",
    "from datetime import datetime\n",
    "from datetime import date\n",
    "import warnings\n",
    "warnings.simplefilter(\"ignore\")"
   ]
  },
  {
   "cell_type": "code",
   "execution_count": 482,
   "metadata": {},
   "outputs": [],
   "source": [
    "#определим цвет для текстов\n",
    "class color:\n",
    "   PURPLE = '\\033[95m'\n",
    "   CYAN = '\\033[96m'\n",
    "   DARKCYAN = '\\033[36m'\n",
    "   BLUE = '\\033[94m'\n",
    "   GREEN = '\\033[92m'\n",
    "   YELLOW = '\\033[93m'\n",
    "   RED = '\\033[91m'\n",
    "   BOLD = '\\033[1m'\n",
    "   UNDERLINE = '\\033[4m'\n",
    "   END = '\\033[0m'"
   ]
  },
  {
   "cell_type": "code",
   "execution_count": 483,
   "metadata": {},
   "outputs": [],
   "source": [
    "#функция ислледовательского анализа\n",
    "def display_info(name, head, tail, shape, info, nan, describe, duplicate, unique, corr, corr_map):\n",
    "    #**Функция print_basic_info, для вывода информации о массиве, и его переменных.**\n",
    "\n",
    "    #* name - название базы данных\n",
    "    #* head - n: вывод примера базы (вывод n - строк), n = 0: не вывод\n",
    "    #* tail - n: вывод примера базы (вывод n - строк), n = 0: не вывод\n",
    "    #* shape - 1: вывод информаии о размерах датасета,  другое: не вывод\n",
    "    #* info - 1: вывод информации о массиве, другое: не вывод\n",
    "    #* nan - 1: вывод информации количестве пропусков, другое: не вывод\n",
    "    #* describe - 1: вывод описания переменных массива, другое: не вывод   \n",
    "                  #Возвращает транспонированный describe()\n",
    "                  #Добавляет строку с долей пропусков для каждого столбца\n",
    "    #* duplicate - 1: вывод количества полных дублей\n",
    "    #* unique - 1: вывод количества неуникальных значений, другое: не вывод\n",
    "    #* corr - 1: вывод цоэффициентов корреляции, другое: не вывод\n",
    "    \n",
    "    if head >= 1:\n",
    "        print(\"\\n\", color.BOLD + color.RED + 'HEAD' + color.END, \"\\n\")\n",
    "        display(name.head(head))\n",
    "    if tail >= 1:\n",
    "        print(\"\\n\", color.BOLD + color.RED + 'TAIL' + color.END, \"\\n\")\n",
    "        display(name.tail(tail))\n",
    "    if shape == 1:\n",
    "        print(\"\\n\", color.BOLD + color.RED + 'SHAPE' + color.END, \"\\n\")\n",
    "        display(name.shape)\n",
    "    if info == 1:\n",
    "        print(\"\\n\", color.BOLD + color.RED + 'INFO' + color.END, \"\\n\")\n",
    "        display(name.info())\n",
    "    if nan == 1:\n",
    "        print(\"\\n\", color.BOLD + color.RED + 'Пустые ячейки, %' + color.END, \"\\n\")\n",
    "        display(round(name.isna().sum()/name.shape[0]*100, 2))\n",
    "    if unique == 1:\n",
    "        print(\"\\n\", color.BOLD + color.RED + 'Уникальные значения' + color.END, \"\\n\")\n",
    "        display(name.nunique())\n",
    "    if describe == 1:\n",
    "        print(\"\\n\", color.BOLD + color.RED + 'Статистики' + color.END, \"\\n\")\n",
    "        display(round(name.describe().transpose(), 2))\n",
    "    if duplicate == 1:\n",
    "        print(\"\\n\", color.BOLD + color.RED + 'Полностью дублирущие строки' + color.END, \"\\n\")\n",
    "        display(name[name.duplicated() == True][name.columns[0]].count())\n",
    "    if corr == 1:\n",
    "        print(\"\\n\", color.BOLD + color.RED + 'CORR' + color.END, \"\\n\")\n",
    "        display(name.corr())\n",
    "    if corr_map != 'None':\n",
    "        print(\"\\n\", color.BOLD + color.RED + 'CORR_MAP' + color.END, \"\\n\")\n",
    "        display(sns.heatmap(name.corr(), vmin = corr_map))"
   ]
  },
  {
   "cell_type": "markdown",
   "metadata": {},
   "source": [
    "### Загружаем данные"
   ]
  },
  {
   "cell_type": "markdown",
   "metadata": {},
   "source": [
    "**Загрузим данные в три отдельные таблицы**"
   ]
  },
  {
   "cell_type": "code",
   "execution_count": 484,
   "metadata": {},
   "outputs": [
    {
     "data": {
      "text/html": [
       "<div>\n",
       "<style scoped>\n",
       "    .dataframe tbody tr th:only-of-type {\n",
       "        vertical-align: middle;\n",
       "    }\n",
       "\n",
       "    .dataframe tbody tr th {\n",
       "        vertical-align: top;\n",
       "    }\n",
       "\n",
       "    .dataframe thead th {\n",
       "        text-align: right;\n",
       "    }\n",
       "</style>\n",
       "<table border=\"1\" class=\"dataframe\">\n",
       "  <thead>\n",
       "    <tr style=\"text-align: right;\">\n",
       "      <th></th>\n",
       "      <th>Тарифный план</th>\n",
       "      <th>Группа ТП</th>\n",
       "      <th>Дата активации</th>\n",
       "      <th>Регион</th>\n",
       "      <th>Пол</th>\n",
       "      <th>Дата рождения</th>\n",
       "    </tr>\n",
       "    <tr>\n",
       "      <th>Абонент</th>\n",
       "      <th></th>\n",
       "      <th></th>\n",
       "      <th></th>\n",
       "      <th></th>\n",
       "      <th></th>\n",
       "      <th></th>\n",
       "    </tr>\n",
       "  </thead>\n",
       "  <tbody>\n",
       "    <tr>\n",
       "      <td>1</td>\n",
       "      <td>ТП 1</td>\n",
       "      <td>1</td>\n",
       "      <td>2004-06-28</td>\n",
       "      <td>Минск</td>\n",
       "      <td>М</td>\n",
       "      <td>1969-12-20</td>\n",
       "    </tr>\n",
       "    <tr>\n",
       "      <td>2</td>\n",
       "      <td>ТП 2</td>\n",
       "      <td>1</td>\n",
       "      <td>2004-12-11</td>\n",
       "      <td>Минск</td>\n",
       "      <td>М</td>\n",
       "      <td>1987-11-24</td>\n",
       "    </tr>\n",
       "    <tr>\n",
       "      <td>3</td>\n",
       "      <td>ТП 3</td>\n",
       "      <td>1</td>\n",
       "      <td>2005-06-14</td>\n",
       "      <td>Минск</td>\n",
       "      <td>М</td>\n",
       "      <td>1983-07-25</td>\n",
       "    </tr>\n",
       "    <tr>\n",
       "      <td>4</td>\n",
       "      <td>ТП 1</td>\n",
       "      <td>1</td>\n",
       "      <td>2005-01-01</td>\n",
       "      <td>Минск</td>\n",
       "      <td>М</td>\n",
       "      <td>1981-12-11</td>\n",
       "    </tr>\n",
       "    <tr>\n",
       "      <td>5</td>\n",
       "      <td>ТП 2</td>\n",
       "      <td>1</td>\n",
       "      <td>2005-05-04</td>\n",
       "      <td>Минск</td>\n",
       "      <td>Ж</td>\n",
       "      <td>1986-08-31</td>\n",
       "    </tr>\n",
       "  </tbody>\n",
       "</table>\n",
       "</div>"
      ],
      "text/plain": [
       "        Тарифный план  Группа ТП Дата активации Регион Пол Дата рождения\n",
       "Абонент                                                                 \n",
       "1                ТП 1          1     2004-06-28  Минск   М    1969-12-20\n",
       "2                ТП 2          1     2004-12-11  Минск   М    1987-11-24\n",
       "3                ТП 3          1     2005-06-14  Минск   М    1983-07-25\n",
       "4                ТП 1          1     2005-01-01  Минск   М    1981-12-11\n",
       "5                ТП 2          1     2005-05-04  Минск   Ж    1986-08-31"
      ]
     },
     "metadata": {},
     "output_type": "display_data"
    }
   ],
   "source": [
    "#прочитаем файл excel и перезапишем его в формат csv для быстрого чтения при дальнейшей работе\n",
    "#file = pd.read_excel('test_1.xlsx', sheet_name='Абоненты')\n",
    "#file.to_csv('test_1_clients.csv')\n",
    "\n",
    "clients = pd.read_csv('test_1_clients.csv',  index_col='Абонент')\n",
    "clients.drop(['Unnamed: 0'], inplace=True, axis=1)\n",
    "display(clients.head())"
   ]
  },
  {
   "cell_type": "code",
   "execution_count": 485,
   "metadata": {},
   "outputs": [
    {
     "data": {
      "text/html": [
       "<div>\n",
       "<style scoped>\n",
       "    .dataframe tbody tr th:only-of-type {\n",
       "        vertical-align: middle;\n",
       "    }\n",
       "\n",
       "    .dataframe tbody tr th {\n",
       "        vertical-align: top;\n",
       "    }\n",
       "\n",
       "    .dataframe thead th {\n",
       "        text-align: right;\n",
       "    }\n",
       "</style>\n",
       "<table border=\"1\" class=\"dataframe\">\n",
       "  <thead>\n",
       "    <tr style=\"text-align: right;\">\n",
       "      <th></th>\n",
       "      <th>Все начисления</th>\n",
       "      <th>Начисления за интернет-трафик</th>\n",
       "      <th>Начисления за входящие вызовы</th>\n",
       "      <th>Начисления за исходящие вызовы</th>\n",
       "    </tr>\n",
       "    <tr>\n",
       "      <th>Абонент</th>\n",
       "      <th></th>\n",
       "      <th></th>\n",
       "      <th></th>\n",
       "      <th></th>\n",
       "    </tr>\n",
       "  </thead>\n",
       "  <tbody>\n",
       "    <tr>\n",
       "      <td>1</td>\n",
       "      <td>4.974000</td>\n",
       "      <td>0.000000</td>\n",
       "      <td>0.0</td>\n",
       "      <td>0.00000</td>\n",
       "    </tr>\n",
       "    <tr>\n",
       "      <td>2</td>\n",
       "      <td>9.510844</td>\n",
       "      <td>3.717844</td>\n",
       "      <td>0.0</td>\n",
       "      <td>5.08200</td>\n",
       "    </tr>\n",
       "    <tr>\n",
       "      <td>3</td>\n",
       "      <td>14.294928</td>\n",
       "      <td>0.000000</td>\n",
       "      <td>0.0</td>\n",
       "      <td>11.34474</td>\n",
       "    </tr>\n",
       "    <tr>\n",
       "      <td>4</td>\n",
       "      <td>9.888000</td>\n",
       "      <td>0.000000</td>\n",
       "      <td>0.0</td>\n",
       "      <td>0.00000</td>\n",
       "    </tr>\n",
       "    <tr>\n",
       "      <td>5</td>\n",
       "      <td>9.534000</td>\n",
       "      <td>0.000000</td>\n",
       "      <td>0.0</td>\n",
       "      <td>2.98200</td>\n",
       "    </tr>\n",
       "  </tbody>\n",
       "</table>\n",
       "</div>"
      ],
      "text/plain": [
       "         Все начисления  Начисления за интернет-трафик  \\\n",
       "Абонент                                                  \n",
       "1              4.974000                       0.000000   \n",
       "2              9.510844                       3.717844   \n",
       "3             14.294928                       0.000000   \n",
       "4              9.888000                       0.000000   \n",
       "5              9.534000                       0.000000   \n",
       "\n",
       "         Начисления за входящие вызовы  Начисления за исходящие вызовы  \n",
       "Абонент                                                                 \n",
       "1                                  0.0                         0.00000  \n",
       "2                                  0.0                         5.08200  \n",
       "3                                  0.0                        11.34474  \n",
       "4                                  0.0                         0.00000  \n",
       "5                                  0.0                         2.98200  "
      ]
     },
     "metadata": {},
     "output_type": "display_data"
    }
   ],
   "source": [
    "charges = pd.read_csv('test_1_charges.csv',  index_col='Абонент')\n",
    "charges.drop(['Unnamed: 0'], inplace=True, axis=1)\n",
    "display(charges.head())"
   ]
  },
  {
   "cell_type": "code",
   "execution_count": 486,
   "metadata": {},
   "outputs": [
    {
     "data": {
      "text/html": [
       "<div>\n",
       "<style scoped>\n",
       "    .dataframe tbody tr th:only-of-type {\n",
       "        vertical-align: middle;\n",
       "    }\n",
       "\n",
       "    .dataframe tbody tr th {\n",
       "        vertical-align: top;\n",
       "    }\n",
       "\n",
       "    .dataframe thead th {\n",
       "        text-align: right;\n",
       "    }\n",
       "</style>\n",
       "<table border=\"1\" class=\"dataframe\">\n",
       "  <thead>\n",
       "    <tr style=\"text-align: right;\">\n",
       "      <th></th>\n",
       "      <th>Входящие вызовы, кол-во</th>\n",
       "      <th>Входящие вызовы, длит-ть в сек</th>\n",
       "      <th>Исходящие вызовы, кол-во</th>\n",
       "      <th>Исходящие вызовы, длит-ть</th>\n",
       "      <th>Интернет-трафик, МБ</th>\n",
       "    </tr>\n",
       "    <tr>\n",
       "      <th>Абонент</th>\n",
       "      <th></th>\n",
       "      <th></th>\n",
       "      <th></th>\n",
       "      <th></th>\n",
       "      <th></th>\n",
       "    </tr>\n",
       "  </thead>\n",
       "  <tbody>\n",
       "    <tr>\n",
       "      <td>1</td>\n",
       "      <td>43</td>\n",
       "      <td>2579</td>\n",
       "      <td>123</td>\n",
       "      <td>9452</td>\n",
       "      <td>1485.007994</td>\n",
       "    </tr>\n",
       "    <tr>\n",
       "      <td>2</td>\n",
       "      <td>97</td>\n",
       "      <td>10806</td>\n",
       "      <td>95</td>\n",
       "      <td>12155</td>\n",
       "      <td>4544.004147</td>\n",
       "    </tr>\n",
       "    <tr>\n",
       "      <td>3</td>\n",
       "      <td>81</td>\n",
       "      <td>12728</td>\n",
       "      <td>61</td>\n",
       "      <td>13878</td>\n",
       "      <td>21.882568</td>\n",
       "    </tr>\n",
       "    <tr>\n",
       "      <td>4</td>\n",
       "      <td>81</td>\n",
       "      <td>16935</td>\n",
       "      <td>125</td>\n",
       "      <td>36780</td>\n",
       "      <td>8.795488</td>\n",
       "    </tr>\n",
       "    <tr>\n",
       "      <td>5</td>\n",
       "      <td>119</td>\n",
       "      <td>17840</td>\n",
       "      <td>85</td>\n",
       "      <td>8149</td>\n",
       "      <td>43.251675</td>\n",
       "    </tr>\n",
       "  </tbody>\n",
       "</table>\n",
       "</div>"
      ],
      "text/plain": [
       "         Входящие вызовы, кол-во  Входящие вызовы, длит-ть в сек  \\\n",
       "Абонент                                                            \n",
       "1                             43                            2579   \n",
       "2                             97                           10806   \n",
       "3                             81                           12728   \n",
       "4                             81                           16935   \n",
       "5                            119                           17840   \n",
       "\n",
       "         Исходящие вызовы, кол-во  Исходящие вызовы, длит-ть  \\\n",
       "Абонент                                                        \n",
       "1                             123                       9452   \n",
       "2                              95                      12155   \n",
       "3                              61                      13878   \n",
       "4                             125                      36780   \n",
       "5                              85                       8149   \n",
       "\n",
       "         Интернет-трафик, МБ  \n",
       "Абонент                       \n",
       "1                1485.007994  \n",
       "2                4544.004147  \n",
       "3                  21.882568  \n",
       "4                   8.795488  \n",
       "5                  43.251675  "
      ]
     },
     "metadata": {},
     "output_type": "display_data"
    }
   ],
   "source": [
    "traffic = pd.read_csv('test_1_traffic.csv', index_col='Абонент')\n",
    "traffic.drop(['Unnamed: 0'], inplace=True, axis=1)\n",
    "display(traffic.head())"
   ]
  },
  {
   "cell_type": "markdown",
   "metadata": {},
   "source": [
    "Анализировать необходимо данные только для тех абонентов, которые есть в таблице \"Абоненты\" (clients). Поэтому при  объединении таблиц для дальнейшего анализа оставим абонетов, по которым есть все данные из начислений и тарифов"
   ]
  },
  {
   "cell_type": "code",
   "execution_count": 487,
   "metadata": {
    "scrolled": true
   },
   "outputs": [
    {
     "name": "stdout",
     "output_type": "stream",
     "text": [
      "<class 'pandas.core.frame.DataFrame'>\n",
      "Int64Index: 108373 entries, 1 to 109147\n",
      "Data columns (total 15 columns):\n",
      "Тарифный план                     108373 non-null object\n",
      "Группа ТП                         108373 non-null float64\n",
      "Дата активации                    108366 non-null object\n",
      "Регион                            108373 non-null object\n",
      "Пол                               96333 non-null object\n",
      "Дата рождения                     97410 non-null object\n",
      "Все начисления                    108373 non-null float64\n",
      "Начисления за интернет-трафик     108373 non-null float64\n",
      "Начисления за входящие вызовы     108373 non-null float64\n",
      "Начисления за исходящие вызовы    108373 non-null float64\n",
      "Входящие вызовы, кол-во           108373 non-null int64\n",
      "Входящие вызовы, длит-ть в сек    108373 non-null int64\n",
      "Исходящие вызовы, кол-во          108373 non-null int64\n",
      "Исходящие вызовы, длит-ть         108373 non-null int64\n",
      "Интернет-трафик, МБ               108373 non-null float64\n",
      "dtypes: float64(6), int64(4), object(5)\n",
      "memory usage: 13.2+ MB\n"
     ]
    }
   ],
   "source": [
    "df = pd.concat([clients, charges, traffic], axis=1)\n",
    "df = df.dropna(subset=['Тарифный план', 'Все начисления'])\n",
    "df.info()"
   ]
  },
  {
   "cell_type": "markdown",
   "metadata": {},
   "source": [
    "### Знакомимся с данными"
   ]
  },
  {
   "cell_type": "code",
   "execution_count": 488,
   "metadata": {},
   "outputs": [
    {
     "name": "stdout",
     "output_type": "stream",
     "text": [
      "\n",
      " \u001b[1m\u001b[91mTAIL\u001b[0m \n",
      "\n"
     ]
    },
    {
     "data": {
      "text/html": [
       "<div>\n",
       "<style scoped>\n",
       "    .dataframe tbody tr th:only-of-type {\n",
       "        vertical-align: middle;\n",
       "    }\n",
       "\n",
       "    .dataframe tbody tr th {\n",
       "        vertical-align: top;\n",
       "    }\n",
       "\n",
       "    .dataframe thead th {\n",
       "        text-align: right;\n",
       "    }\n",
       "</style>\n",
       "<table border=\"1\" class=\"dataframe\">\n",
       "  <thead>\n",
       "    <tr style=\"text-align: right;\">\n",
       "      <th></th>\n",
       "      <th>Тарифный план</th>\n",
       "      <th>Группа ТП</th>\n",
       "      <th>Дата активации</th>\n",
       "      <th>Регион</th>\n",
       "      <th>Пол</th>\n",
       "      <th>Дата рождения</th>\n",
       "      <th>Все начисления</th>\n",
       "      <th>Начисления за интернет-трафик</th>\n",
       "      <th>Начисления за входящие вызовы</th>\n",
       "      <th>Начисления за исходящие вызовы</th>\n",
       "      <th>Входящие вызовы, кол-во</th>\n",
       "      <th>Входящие вызовы, длит-ть в сек</th>\n",
       "      <th>Исходящие вызовы, кол-во</th>\n",
       "      <th>Исходящие вызовы, длит-ть</th>\n",
       "      <th>Интернет-трафик, МБ</th>\n",
       "    </tr>\n",
       "    <tr>\n",
       "      <th>Абонент</th>\n",
       "      <th></th>\n",
       "      <th></th>\n",
       "      <th></th>\n",
       "      <th></th>\n",
       "      <th></th>\n",
       "      <th></th>\n",
       "      <th></th>\n",
       "      <th></th>\n",
       "      <th></th>\n",
       "      <th></th>\n",
       "      <th></th>\n",
       "      <th></th>\n",
       "      <th></th>\n",
       "      <th></th>\n",
       "      <th></th>\n",
       "    </tr>\n",
       "  </thead>\n",
       "  <tbody>\n",
       "    <tr>\n",
       "      <td>109143</td>\n",
       "      <td>ТП 11</td>\n",
       "      <td>3.0</td>\n",
       "      <td>2013-01-31</td>\n",
       "      <td>Витебск</td>\n",
       "      <td>NaN</td>\n",
       "      <td>NaN</td>\n",
       "      <td>1.130851</td>\n",
       "      <td>1.614396</td>\n",
       "      <td>0.0</td>\n",
       "      <td>0.06954</td>\n",
       "      <td>286</td>\n",
       "      <td>45640</td>\n",
       "      <td>212</td>\n",
       "      <td>44327</td>\n",
       "      <td>584.835558</td>\n",
       "    </tr>\n",
       "    <tr>\n",
       "      <td>109144</td>\n",
       "      <td>ТП 11</td>\n",
       "      <td>3.0</td>\n",
       "      <td>2013-01-31</td>\n",
       "      <td>Минск</td>\n",
       "      <td>NaN</td>\n",
       "      <td>NaN</td>\n",
       "      <td>0.465338</td>\n",
       "      <td>0.154224</td>\n",
       "      <td>0.0</td>\n",
       "      <td>0.12578</td>\n",
       "      <td>262</td>\n",
       "      <td>29826</td>\n",
       "      <td>269</td>\n",
       "      <td>31876</td>\n",
       "      <td>2641.303535</td>\n",
       "    </tr>\n",
       "    <tr>\n",
       "      <td>109145</td>\n",
       "      <td>ТП 11</td>\n",
       "      <td>3.0</td>\n",
       "      <td>2013-01-31</td>\n",
       "      <td>Могилев</td>\n",
       "      <td>NaN</td>\n",
       "      <td>NaN</td>\n",
       "      <td>0.135154</td>\n",
       "      <td>0.000000</td>\n",
       "      <td>0.0</td>\n",
       "      <td>0.00000</td>\n",
       "      <td>305</td>\n",
       "      <td>37465</td>\n",
       "      <td>174</td>\n",
       "      <td>24747</td>\n",
       "      <td>12.659479</td>\n",
       "    </tr>\n",
       "    <tr>\n",
       "      <td>109146</td>\n",
       "      <td>ТП 11</td>\n",
       "      <td>3.0</td>\n",
       "      <td>2013-01-31</td>\n",
       "      <td>Минск</td>\n",
       "      <td>NaN</td>\n",
       "      <td>NaN</td>\n",
       "      <td>0.128033</td>\n",
       "      <td>0.000000</td>\n",
       "      <td>0.0</td>\n",
       "      <td>0.00000</td>\n",
       "      <td>70</td>\n",
       "      <td>34704</td>\n",
       "      <td>66</td>\n",
       "      <td>15753</td>\n",
       "      <td>405.642317</td>\n",
       "    </tr>\n",
       "    <tr>\n",
       "      <td>109147</td>\n",
       "      <td>ТП 2</td>\n",
       "      <td>1.0</td>\n",
       "      <td>2013-01-31</td>\n",
       "      <td>Минск</td>\n",
       "      <td>М</td>\n",
       "      <td>1993-01-08</td>\n",
       "      <td>0.108354</td>\n",
       "      <td>0.000000</td>\n",
       "      <td>0.0</td>\n",
       "      <td>0.05420</td>\n",
       "      <td>151</td>\n",
       "      <td>32767</td>\n",
       "      <td>138</td>\n",
       "      <td>58016</td>\n",
       "      <td>133.473950</td>\n",
       "    </tr>\n",
       "  </tbody>\n",
       "</table>\n",
       "</div>"
      ],
      "text/plain": [
       "        Тарифный план  Группа ТП Дата активации   Регион  Пол Дата рождения  \\\n",
       "Абонент                                                                       \n",
       "109143          ТП 11        3.0     2013-01-31  Витебск  NaN           NaN   \n",
       "109144          ТП 11        3.0     2013-01-31    Минск  NaN           NaN   \n",
       "109145          ТП 11        3.0     2013-01-31  Могилев  NaN           NaN   \n",
       "109146          ТП 11        3.0     2013-01-31    Минск  NaN           NaN   \n",
       "109147           ТП 2        1.0     2013-01-31    Минск    М    1993-01-08   \n",
       "\n",
       "         Все начисления  Начисления за интернет-трафик  \\\n",
       "Абонент                                                  \n",
       "109143         1.130851                       1.614396   \n",
       "109144         0.465338                       0.154224   \n",
       "109145         0.135154                       0.000000   \n",
       "109146         0.128033                       0.000000   \n",
       "109147         0.108354                       0.000000   \n",
       "\n",
       "         Начисления за входящие вызовы  Начисления за исходящие вызовы  \\\n",
       "Абонент                                                                  \n",
       "109143                             0.0                         0.06954   \n",
       "109144                             0.0                         0.12578   \n",
       "109145                             0.0                         0.00000   \n",
       "109146                             0.0                         0.00000   \n",
       "109147                             0.0                         0.05420   \n",
       "\n",
       "         Входящие вызовы, кол-во  Входящие вызовы, длит-ть в сек  \\\n",
       "Абонент                                                            \n",
       "109143                       286                           45640   \n",
       "109144                       262                           29826   \n",
       "109145                       305                           37465   \n",
       "109146                        70                           34704   \n",
       "109147                       151                           32767   \n",
       "\n",
       "         Исходящие вызовы, кол-во  Исходящие вызовы, длит-ть  \\\n",
       "Абонент                                                        \n",
       "109143                        212                      44327   \n",
       "109144                        269                      31876   \n",
       "109145                        174                      24747   \n",
       "109146                         66                      15753   \n",
       "109147                        138                      58016   \n",
       "\n",
       "         Интернет-трафик, МБ  \n",
       "Абонент                       \n",
       "109143            584.835558  \n",
       "109144           2641.303535  \n",
       "109145             12.659479  \n",
       "109146            405.642317  \n",
       "109147            133.473950  "
      ]
     },
     "metadata": {},
     "output_type": "display_data"
    },
    {
     "name": "stdout",
     "output_type": "stream",
     "text": [
      "\n",
      " \u001b[1m\u001b[91mSHAPE\u001b[0m \n",
      "\n"
     ]
    },
    {
     "data": {
      "text/plain": [
       "(108373, 15)"
      ]
     },
     "metadata": {},
     "output_type": "display_data"
    },
    {
     "name": "stdout",
     "output_type": "stream",
     "text": [
      "\n",
      " \u001b[1m\u001b[91mINFO\u001b[0m \n",
      "\n",
      "<class 'pandas.core.frame.DataFrame'>\n",
      "Int64Index: 108373 entries, 1 to 109147\n",
      "Data columns (total 15 columns):\n",
      "Тарифный план                     108373 non-null object\n",
      "Группа ТП                         108373 non-null float64\n",
      "Дата активации                    108366 non-null object\n",
      "Регион                            108373 non-null object\n",
      "Пол                               96333 non-null object\n",
      "Дата рождения                     97410 non-null object\n",
      "Все начисления                    108373 non-null float64\n",
      "Начисления за интернет-трафик     108373 non-null float64\n",
      "Начисления за входящие вызовы     108373 non-null float64\n",
      "Начисления за исходящие вызовы    108373 non-null float64\n",
      "Входящие вызовы, кол-во           108373 non-null int64\n",
      "Входящие вызовы, длит-ть в сек    108373 non-null int64\n",
      "Исходящие вызовы, кол-во          108373 non-null int64\n",
      "Исходящие вызовы, длит-ть         108373 non-null int64\n",
      "Интернет-трафик, МБ               108373 non-null float64\n",
      "dtypes: float64(6), int64(4), object(5)\n",
      "memory usage: 13.2+ MB\n"
     ]
    },
    {
     "data": {
      "text/plain": [
       "None"
      ]
     },
     "metadata": {},
     "output_type": "display_data"
    },
    {
     "name": "stdout",
     "output_type": "stream",
     "text": [
      "\n",
      " \u001b[1m\u001b[91mПустые ячейки, %\u001b[0m \n",
      "\n"
     ]
    },
    {
     "data": {
      "text/plain": [
       "Тарифный план                      0.00\n",
       "Группа ТП                          0.00\n",
       "Дата активации                     0.01\n",
       "Регион                             0.00\n",
       "Пол                               11.11\n",
       "Дата рождения                     10.12\n",
       "Все начисления                     0.00\n",
       "Начисления за интернет-трафик      0.00\n",
       "Начисления за входящие вызовы      0.00\n",
       "Начисления за исходящие вызовы     0.00\n",
       "Входящие вызовы, кол-во            0.00\n",
       "Входящие вызовы, длит-ть в сек     0.00\n",
       "Исходящие вызовы, кол-во           0.00\n",
       "Исходящие вызовы, длит-ть          0.00\n",
       "Интернет-трафик, МБ                0.00\n",
       "dtype: float64"
      ]
     },
     "metadata": {},
     "output_type": "display_data"
    },
    {
     "name": "stdout",
     "output_type": "stream",
     "text": [
      "\n",
      " \u001b[1m\u001b[91mСтатистики\u001b[0m \n",
      "\n"
     ]
    },
    {
     "data": {
      "text/html": [
       "<div>\n",
       "<style scoped>\n",
       "    .dataframe tbody tr th:only-of-type {\n",
       "        vertical-align: middle;\n",
       "    }\n",
       "\n",
       "    .dataframe tbody tr th {\n",
       "        vertical-align: top;\n",
       "    }\n",
       "\n",
       "    .dataframe thead th {\n",
       "        text-align: right;\n",
       "    }\n",
       "</style>\n",
       "<table border=\"1\" class=\"dataframe\">\n",
       "  <thead>\n",
       "    <tr style=\"text-align: right;\">\n",
       "      <th></th>\n",
       "      <th>count</th>\n",
       "      <th>mean</th>\n",
       "      <th>std</th>\n",
       "      <th>min</th>\n",
       "      <th>25%</th>\n",
       "      <th>50%</th>\n",
       "      <th>75%</th>\n",
       "      <th>max</th>\n",
       "    </tr>\n",
       "  </thead>\n",
       "  <tbody>\n",
       "    <tr>\n",
       "      <td>Группа ТП</td>\n",
       "      <td>108373.0</td>\n",
       "      <td>1.46</td>\n",
       "      <td>0.74</td>\n",
       "      <td>1.00</td>\n",
       "      <td>1.00</td>\n",
       "      <td>1.00</td>\n",
       "      <td>2.00</td>\n",
       "      <td>3.00</td>\n",
       "    </tr>\n",
       "    <tr>\n",
       "      <td>Все начисления</td>\n",
       "      <td>108373.0</td>\n",
       "      <td>12.96</td>\n",
       "      <td>12.65</td>\n",
       "      <td>0.00</td>\n",
       "      <td>5.92</td>\n",
       "      <td>10.09</td>\n",
       "      <td>16.20</td>\n",
       "      <td>693.86</td>\n",
       "    </tr>\n",
       "    <tr>\n",
       "      <td>Начисления за интернет-трафик</td>\n",
       "      <td>108373.0</td>\n",
       "      <td>2.07</td>\n",
       "      <td>5.95</td>\n",
       "      <td>0.00</td>\n",
       "      <td>0.00</td>\n",
       "      <td>0.01</td>\n",
       "      <td>2.35</td>\n",
       "      <td>620.35</td>\n",
       "    </tr>\n",
       "    <tr>\n",
       "      <td>Начисления за входящие вызовы</td>\n",
       "      <td>108373.0</td>\n",
       "      <td>0.00</td>\n",
       "      <td>0.03</td>\n",
       "      <td>0.00</td>\n",
       "      <td>0.00</td>\n",
       "      <td>0.00</td>\n",
       "      <td>0.00</td>\n",
       "      <td>4.73</td>\n",
       "    </tr>\n",
       "    <tr>\n",
       "      <td>Начисления за исходящие вызовы</td>\n",
       "      <td>108373.0</td>\n",
       "      <td>4.65</td>\n",
       "      <td>7.37</td>\n",
       "      <td>0.00</td>\n",
       "      <td>0.76</td>\n",
       "      <td>2.87</td>\n",
       "      <td>6.07</td>\n",
       "      <td>609.16</td>\n",
       "    </tr>\n",
       "    <tr>\n",
       "      <td>Входящие вызовы, кол-во</td>\n",
       "      <td>108373.0</td>\n",
       "      <td>157.21</td>\n",
       "      <td>112.77</td>\n",
       "      <td>1.00</td>\n",
       "      <td>78.00</td>\n",
       "      <td>133.00</td>\n",
       "      <td>208.00</td>\n",
       "      <td>2497.00</td>\n",
       "    </tr>\n",
       "    <tr>\n",
       "      <td>Входящие вызовы, длит-ть в сек</td>\n",
       "      <td>108373.0</td>\n",
       "      <td>24886.85</td>\n",
       "      <td>25302.86</td>\n",
       "      <td>1.00</td>\n",
       "      <td>9507.00</td>\n",
       "      <td>18024.00</td>\n",
       "      <td>31806.00</td>\n",
       "      <td>801186.00</td>\n",
       "    </tr>\n",
       "    <tr>\n",
       "      <td>Исходящие вызовы, кол-во</td>\n",
       "      <td>108373.0</td>\n",
       "      <td>163.08</td>\n",
       "      <td>124.63</td>\n",
       "      <td>1.00</td>\n",
       "      <td>78.00</td>\n",
       "      <td>135.00</td>\n",
       "      <td>214.00</td>\n",
       "      <td>2127.00</td>\n",
       "    </tr>\n",
       "    <tr>\n",
       "      <td>Исходящие вызовы, длит-ть</td>\n",
       "      <td>108373.0</td>\n",
       "      <td>26605.28</td>\n",
       "      <td>28166.72</td>\n",
       "      <td>1.00</td>\n",
       "      <td>9610.00</td>\n",
       "      <td>18704.00</td>\n",
       "      <td>33745.00</td>\n",
       "      <td>683984.00</td>\n",
       "    </tr>\n",
       "    <tr>\n",
       "      <td>Интернет-трафик, МБ</td>\n",
       "      <td>108373.0</td>\n",
       "      <td>2112.31</td>\n",
       "      <td>11035.57</td>\n",
       "      <td>2.73</td>\n",
       "      <td>113.81</td>\n",
       "      <td>413.85</td>\n",
       "      <td>1639.58</td>\n",
       "      <td>1687558.05</td>\n",
       "    </tr>\n",
       "  </tbody>\n",
       "</table>\n",
       "</div>"
      ],
      "text/plain": [
       "                                   count      mean       std   min      25%  \\\n",
       "Группа ТП                       108373.0      1.46      0.74  1.00     1.00   \n",
       "Все начисления                  108373.0     12.96     12.65  0.00     5.92   \n",
       "Начисления за интернет-трафик   108373.0      2.07      5.95  0.00     0.00   \n",
       "Начисления за входящие вызовы   108373.0      0.00      0.03  0.00     0.00   \n",
       "Начисления за исходящие вызовы  108373.0      4.65      7.37  0.00     0.76   \n",
       "Входящие вызовы, кол-во         108373.0    157.21    112.77  1.00    78.00   \n",
       "Входящие вызовы, длит-ть в сек  108373.0  24886.85  25302.86  1.00  9507.00   \n",
       "Исходящие вызовы, кол-во        108373.0    163.08    124.63  1.00    78.00   \n",
       "Исходящие вызовы, длит-ть       108373.0  26605.28  28166.72  1.00  9610.00   \n",
       "Интернет-трафик, МБ             108373.0   2112.31  11035.57  2.73   113.81   \n",
       "\n",
       "                                     50%       75%         max  \n",
       "Группа ТП                           1.00      2.00        3.00  \n",
       "Все начисления                     10.09     16.20      693.86  \n",
       "Начисления за интернет-трафик       0.01      2.35      620.35  \n",
       "Начисления за входящие вызовы       0.00      0.00        4.73  \n",
       "Начисления за исходящие вызовы      2.87      6.07      609.16  \n",
       "Входящие вызовы, кол-во           133.00    208.00     2497.00  \n",
       "Входящие вызовы, длит-ть в сек  18024.00  31806.00   801186.00  \n",
       "Исходящие вызовы, кол-во          135.00    214.00     2127.00  \n",
       "Исходящие вызовы, длит-ть       18704.00  33745.00   683984.00  \n",
       "Интернет-трафик, МБ               413.85   1639.58  1687558.05  "
      ]
     },
     "metadata": {},
     "output_type": "display_data"
    },
    {
     "name": "stdout",
     "output_type": "stream",
     "text": [
      "\n",
      " \u001b[1m\u001b[91mПолностью дублирущие строки\u001b[0m \n",
      "\n"
     ]
    },
    {
     "data": {
      "text/plain": [
       "0"
      ]
     },
     "metadata": {},
     "output_type": "display_data"
    }
   ],
   "source": [
    "display_info(name=df,  head=0, tail=5, shape=1, info=1, nan=1, describe=1, duplicate=1, unique=0, corr=0, corr_map='None')"
   ]
  },
  {
   "cell_type": "markdown",
   "metadata": {},
   "source": [
    "* Есть пропуски в стролбцах \"Пол\" и \"Дата рождения\". Заполним такие ячейки значением \"unknown\", чтобы не потерять значения начислений и трафика по таким абонентам\n",
    "* Количество пропусков в столбце \"Дата активации\" совсем незначительное, удалим их из анализа\n",
    "* Столбцы с датами надо привести к усваемому кодом формату"
   ]
  },
  {
   "cell_type": "code",
   "execution_count": 489,
   "metadata": {
    "scrolled": true
   },
   "outputs": [
    {
     "name": "stdout",
     "output_type": "stream",
     "text": [
      "<class 'pandas.core.frame.DataFrame'>\n",
      "Int64Index: 108366 entries, 1 to 109147\n",
      "Data columns (total 15 columns):\n",
      "Тарифный план                     108366 non-null object\n",
      "Группа ТП                         108366 non-null float64\n",
      "Дата активации                    108366 non-null object\n",
      "Регион                            108366 non-null object\n",
      "Пол                               96329 non-null object\n",
      "Дата рождения                     97406 non-null object\n",
      "Все начисления                    108366 non-null float64\n",
      "Начисления за интернет-трафик     108366 non-null float64\n",
      "Начисления за входящие вызовы     108366 non-null float64\n",
      "Начисления за исходящие вызовы    108366 non-null float64\n",
      "Входящие вызовы, кол-во           108366 non-null int64\n",
      "Входящие вызовы, длит-ть в сек    108366 non-null int64\n",
      "Исходящие вызовы, кол-во          108366 non-null int64\n",
      "Исходящие вызовы, длит-ть         108366 non-null int64\n",
      "Интернет-трафик, МБ               108366 non-null float64\n",
      "dtypes: float64(6), int64(4), object(5)\n",
      "memory usage: 13.2+ MB\n"
     ]
    }
   ],
   "source": [
    "#заполняем пустые ячейки в столбце \"Дата активации\"\n",
    "df = df.dropna(subset=['Дата активации'])\n",
    "df.info()"
   ]
  },
  {
   "cell_type": "code",
   "execution_count": 490,
   "metadata": {
    "scrolled": true
   },
   "outputs": [
    {
     "name": "stdout",
     "output_type": "stream",
     "text": [
      "<class 'pandas.core.frame.DataFrame'>\n",
      "Int64Index: 108366 entries, 1 to 109147\n",
      "Data columns (total 15 columns):\n",
      "Тарифный план                     108366 non-null object\n",
      "Группа ТП                         108366 non-null float64\n",
      "Дата активации                    108366 non-null object\n",
      "Регион                            108366 non-null object\n",
      "Пол                               108366 non-null object\n",
      "Дата рождения                     108366 non-null object\n",
      "Все начисления                    108366 non-null float64\n",
      "Начисления за интернет-трафик     108366 non-null float64\n",
      "Начисления за входящие вызовы     108366 non-null float64\n",
      "Начисления за исходящие вызовы    108366 non-null float64\n",
      "Входящие вызовы, кол-во           108366 non-null int64\n",
      "Входящие вызовы, длит-ть в сек    108366 non-null int64\n",
      "Исходящие вызовы, кол-во          108366 non-null int64\n",
      "Исходящие вызовы, длит-ть         108366 non-null int64\n",
      "Интернет-трафик, МБ               108366 non-null float64\n",
      "dtypes: float64(6), int64(4), object(5)\n",
      "memory usage: 13.2+ MB\n"
     ]
    }
   ],
   "source": [
    "#заполняем пустые ячейки значенеим \"unknown\" в столбцах с пустыми ячейками\n",
    "df = df.fillna('unknown')\n",
    "df.info()"
   ]
  },
  {
   "cell_type": "code",
   "execution_count": 491,
   "metadata": {},
   "outputs": [
    {
     "name": "stdout",
     "output_type": "stream",
     "text": [
      "<class 'pandas.core.frame.DataFrame'>\n",
      "Int64Index: 108366 entries, 1 to 109147\n",
      "Data columns (total 15 columns):\n",
      "Тарифный план                     108366 non-null object\n",
      "Группа ТП                         108366 non-null float64\n",
      "Дата активации                    108366 non-null datetime64[ns]\n",
      "Регион                            108366 non-null object\n",
      "Пол                               108366 non-null object\n",
      "Дата рождения                     97406 non-null datetime64[ns]\n",
      "Все начисления                    108366 non-null float64\n",
      "Начисления за интернет-трафик     108366 non-null float64\n",
      "Начисления за входящие вызовы     108366 non-null float64\n",
      "Начисления за исходящие вызовы    108366 non-null float64\n",
      "Входящие вызовы, кол-во           108366 non-null int64\n",
      "Входящие вызовы, длит-ть в сек    108366 non-null int64\n",
      "Исходящие вызовы, кол-во          108366 non-null int64\n",
      "Исходящие вызовы, длит-ть         108366 non-null int64\n",
      "Интернет-трафик, МБ               108366 non-null float64\n",
      "dtypes: datetime64[ns](2), float64(6), int64(4), object(3)\n",
      "memory usage: 13.2+ MB\n"
     ]
    }
   ],
   "source": [
    "#меняем формат ячеек с датами\n",
    "df['Дата активации'] = pd.to_datetime(df['Дата активации'], format='%Y-%m-%d', errors='coerce')\n",
    "df['Дата рождения'] = pd.to_datetime(df['Дата рождения'], format='%Y-%m-%d', errors='coerce')\n",
    "df.info()"
   ]
  },
  {
   "cell_type": "markdown",
   "metadata": {},
   "source": [
    "**Посмотрим на распределение дат**"
   ]
  },
  {
   "cell_type": "code",
   "execution_count": 492,
   "metadata": {},
   "outputs": [
    {
     "data": {
      "text/plain": [
       "2012    12920\n",
       "2006    12908\n",
       "2010    12125\n",
       "2005    11901\n",
       "2011    11674\n",
       "2009    11223\n",
       "2004    10806\n",
       "2007     9328\n",
       "2008     8485\n",
       "2003     5284\n",
       "2013     1215\n",
       "2002      496\n",
       "1999        1\n",
       "Name: Год активации, dtype: int64"
      ]
     },
     "execution_count": 492,
     "metadata": {},
     "output_type": "execute_result"
    }
   ],
   "source": [
    "df['Год активации'] = pd.DatetimeIndex(df['Дата активации']).year\n",
    "df['Год активации'] = df['Год активации'].astype('int')\n",
    "df['Год активации'].value_counts()"
   ]
  },
  {
   "cell_type": "markdown",
   "metadata": {},
   "source": [
    "Нашелся абонент, который был активированв 1999 году. Такого не может быть, так как компания МТС была открыта в Беларуси в 2002. Удалим такого абонента из анализа"
   ]
  },
  {
   "cell_type": "code",
   "execution_count": 493,
   "metadata": {
    "scrolled": true
   },
   "outputs": [
    {
     "data": {
      "text/plain": [
       "2012    11.92\n",
       "2006    11.91\n",
       "2010    11.19\n",
       "2005    10.98\n",
       "2011    10.77\n",
       "2009    10.36\n",
       "2004     9.97\n",
       "2007     8.61\n",
       "2008     7.83\n",
       "2003     4.88\n",
       "2013     1.12\n",
       "2002     0.46\n",
       "Name: Год активации, dtype: float64"
      ]
     },
     "execution_count": 493,
     "metadata": {},
     "output_type": "execute_result"
    }
   ],
   "source": [
    "df = df.loc[df['Год активации'] >=2002 ]\n",
    "(df['Год активации'].value_counts(normalize=True)*100).round(2)"
   ]
  },
  {
   "cell_type": "markdown",
   "metadata": {},
   "source": [
    "Добавим столбец возраста абонента"
   ]
  },
  {
   "cell_type": "code",
   "execution_count": 494,
   "metadata": {
    "scrolled": true
   },
   "outputs": [
    {
     "name": "stdout",
     "output_type": "stream",
     "text": [
      "\n",
      " \u001b[1m\u001b[92mСтатистики возраста\u001b[0m \n",
      "\n"
     ]
    },
    {
     "data": {
      "text/plain": [
       "count    97406.00\n",
       "mean        41.54\n",
       "std         10.78\n",
       "min         13.00\n",
       "25%         33.00\n",
       "50%         39.00\n",
       "75%         49.00\n",
       "max        121.00\n",
       "Name: Возраст, dtype: float64"
      ]
     },
     "execution_count": 494,
     "metadata": {},
     "output_type": "execute_result"
    }
   ],
   "source": [
    "def calculate_age(born):\n",
    "    born = datetime.strptime(str(born), \"%Y-%m-%d %H:%M:%S\").date()\n",
    "    today = date.today()\n",
    "    return today.year - born.year - ((today.month, today.day) < (born.month, born.day))\n",
    "   \n",
    "\n",
    "df['Возраст'] = df.loc[df['Дата рождения'].isna() ==False]['Дата рождения'].apply(calculate_age)\n",
    "df['Возраст'] = df['Возраст'].astype('int', errors='ignore')\n",
    "print(\"\\n\", color.BOLD + color.GREEN + 'Статистики возраста' + color.END, \"\\n\")\n",
    "df['Возраст'].describe().round(2)"
   ]
  },
  {
   "cell_type": "markdown",
   "metadata": {},
   "source": [
    "Все таки возраст свыше 101 года будем считать выбросом, аномалией, а возможно ошибкой выгрузки. Заменим возраст таких абонентов на средний возраст всех абонентов"
   ]
  },
  {
   "cell_type": "code",
   "execution_count": 495,
   "metadata": {},
   "outputs": [],
   "source": [
    "df.loc[(df['Возраст'] > 101), 'Возраст'] = df.loc[(df['Возраст'] <= 101) & (df['Возраст'] > 0)]['Возраст'].mean()\n",
    "df.loc[(df['Возраст'] < 1), 'Возраст'] = df.loc[(df['Возраст'] <= 101) & (df['Возраст'] > 0)]['Возраст'].mean()"
   ]
  },
  {
   "cell_type": "code",
   "execution_count": 496,
   "metadata": {},
   "outputs": [
    {
     "data": {
      "text/plain": [
       "count    97406.000000\n",
       "mean        41.519649\n",
       "std         10.715533\n",
       "min         13.000000\n",
       "25%         33.000000\n",
       "50%         39.000000\n",
       "75%         49.000000\n",
       "max        101.000000\n",
       "Name: Возраст, dtype: float64"
      ]
     },
     "execution_count": 496,
     "metadata": {},
     "output_type": "execute_result"
    }
   ],
   "source": [
    "df['Возраст'].describe()"
   ]
  },
  {
   "cell_type": "markdown",
   "metadata": {},
   "source": [
    "Удалим столбцы с датами, так как мы взяли из них всю необходимую информацию"
   ]
  },
  {
   "cell_type": "code",
   "execution_count": 497,
   "metadata": {
    "scrolled": false
   },
   "outputs": [],
   "source": [
    "df = df.drop(['Дата рождения','Дата активации'], axis=1)"
   ]
  },
  {
   "cell_type": "markdown",
   "metadata": {},
   "source": [
    "###  Определние профиля абонента"
   ]
  },
  {
   "cell_type": "markdown",
   "metadata": {},
   "source": [
    "**Определим  порог,с которого начинается активное потребление интернет-трафика**"
   ]
  },
  {
   "cell_type": "code",
   "execution_count": 498,
   "metadata": {},
   "outputs": [],
   "source": [
    "#Для добства переведем трафик в Гигабайты\n",
    "df['Интернет-трафик, Гб'] = df['Интернет-трафик, МБ'] / 1000"
   ]
  },
  {
   "cell_type": "markdown",
   "metadata": {},
   "source": [
    "**Посмотрим на статистики использования интернет-трафика**"
   ]
  },
  {
   "cell_type": "code",
   "execution_count": 499,
   "metadata": {
    "scrolled": true
   },
   "outputs": [
    {
     "data": {
      "text/plain": [
       "count     108365.00\n",
       "mean        2112.44\n",
       "std        11035.97\n",
       "min            2.73\n",
       "25%          113.81\n",
       "50%          413.89\n",
       "75%         1639.68\n",
       "max      1687558.05\n",
       "Name: Интернет-трафик, МБ, dtype: float64"
      ]
     },
     "execution_count": 499,
     "metadata": {},
     "output_type": "execute_result"
    }
   ],
   "source": [
    "df['Интернет-трафик, МБ'].describe().round(2)"
   ]
  },
  {
   "cell_type": "markdown",
   "metadata": {
    "scrolled": true
   },
   "source": [
    "Проверим какова доля потребления трафика абонентов, которые попали в 3 квартиль распределения данных"
   ]
  },
  {
   "cell_type": "code",
   "execution_count": 500,
   "metadata": {},
   "outputs": [
    {
     "name": "stdout",
     "output_type": "stream",
     "text": [
      "Доля трафика абонентов, потребивших до 1700 мб, %: 13.74\n",
      "Доля трафика абонентов, потребивших больше 1700 мб, %: 86.26\n"
     ]
    }
   ],
   "source": [
    "c = df['Интернет-трафик, МБ'].sum() /1000\n",
    "a = df.loc[df['Интернет-трафик, МБ'] < 1639]['Интернет-трафик, МБ'].sum().round(2) / 1000 * 100\n",
    "b = df.loc[df['Интернет-трафик, МБ'] > 1639]['Интернет-трафик, МБ'].sum().round(2) / 1000 * 100\n",
    "print('Доля трафика абонентов, потребивших до 1700 мб, %:', (a/c).round(2))\n",
    "print('Доля трафика абонентов, потребивших больше 1700 мб, %:', (b/c).round(2))"
   ]
  },
  {
   "cell_type": "markdown",
   "metadata": {},
   "source": [
    "* Видим, что 50% всех пользователей потребляют 413 мб и меньше. Таких абонентов можно отнести к неактивным пользователям интернета. \n",
    "* Остается еще 50% всех абонетов, половина которых расходует от 413 до 1639 мб в месяц, остальная половина прилично выходит за эти рамки.\n",
    "* Однако, 75% абонентов, тратят лишь 14% трафика от всего объема за месяца.\n",
    "* К активным пользователям условно отнесем тех пользователей, которые потребляют интернет свыше 1640 мб в месяц."
   ]
  },
  {
   "cell_type": "code",
   "execution_count": 501,
   "metadata": {},
   "outputs": [],
   "source": [
    "active = df.loc[df['Интернет-трафик, МБ'] > 1640]"
   ]
  },
  {
   "cell_type": "code",
   "execution_count": 502,
   "metadata": {
    "scrolled": false
   },
   "outputs": [
    {
     "data": {
      "image/png": "[encoded data removed]",
      "text/plain": [
       "<Figure size 1440x720 with 2 Axes>"
      ]
     },
     "metadata": {
      "needs_background": "light"
     },
     "output_type": "display_data"
    }
   ],
   "source": [
    "def hist_box(data, column):\n",
    "    plt.figure(figsize=(20, 10))\n",
    "    plt.subplot(2, 2, 1)\n",
    "    plt.hist(data[column], bins =50,\n",
    "             #density=True,\n",
    "             )\n",
    "    #plt.legend()\n",
    "    \n",
    "    plt.title(\"Распределение интрент-трафика активного польователя\") # заголовок\n",
    "    plt.grid(True)\n",
    "    \n",
    "    plt.subplot(2, 2, 3)\n",
    "    plt.boxplot(data[column], vert=False)\n",
    "    plt.grid(True)\n",
    "hist_box(active.loc[active[\"Интернет-трафик, МБ\"] >0], 'Интернет-трафик, МБ')"
   ]
  },
  {
   "cell_type": "markdown",
   "metadata": {},
   "source": [
    "* «Усы» простираются влево и вправо от границ ящика на расстояние, равное 1,5 межквартильным размахам (IQR). В размах «усов» попадают нормальные значения, а за пределами находятся выбросы.\n",
    "* Есть единичные случаи чрезмерно большого потребления трафика отнесем их к выбросам, нетипичным ситуациям. Не будем расматривать таких абонетов в дальнейшем анализе.\n",
    "* Отсечем абонентов, которые потребили больше 400000 мб трафика"
   ]
  },
  {
   "cell_type": "code",
   "execution_count": 503,
   "metadata": {},
   "outputs": [],
   "source": [
    "active = active.loc[active[\"Интернет-трафик, МБ\"] <= 400000]"
   ]
  },
  {
   "cell_type": "code",
   "execution_count": 504,
   "metadata": {},
   "outputs": [
    {
     "data": {
      "image/png": "[encoded data removed]",
      "text/plain": [
       "<Figure size 1440x720 with 2 Axes>"
      ]
     },
     "metadata": {
      "needs_background": "light"
     },
     "output_type": "display_data"
    }
   ],
   "source": [
    "hist_box(active, 'Интернет-трафик, МБ')"
   ]
  },
  {
   "cell_type": "markdown",
   "metadata": {},
   "source": [
    "###  Составление профиля абонента"
   ]
  },
  {
   "cell_type": "markdown",
   "metadata": {},
   "source": [
    "**В данном раделе расчитаем все интересующие нас показатели, в конце напишем выводы по ним**"
   ]
  },
  {
   "cell_type": "markdown",
   "metadata": {},
   "source": [
    "Посмотрим на доли каждого пола  и кто тратит больше интернета"
   ]
  },
  {
   "cell_type": "code",
   "execution_count": 505,
   "metadata": {},
   "outputs": [
    {
     "data": {
      "text/plain": [
       "М    0.530025\n",
       "Ж    0.469975\n",
       "Name: Пол, dtype: float64"
      ]
     },
     "execution_count": 505,
     "metadata": {},
     "output_type": "execute_result"
    }
   ],
   "source": [
    "active.query('Пол != \"unknown\"')['Пол'].value_counts(normalize=True)"
   ]
  },
  {
   "cell_type": "code",
   "execution_count": 506,
   "metadata": {},
   "outputs": [
    {
     "name": "stdout",
     "output_type": "stream",
     "text": [
      "\n",
      " \u001b[1m\u001b[92mСренее количество потребляемого трафика между мужчинами и женщинами\u001b[0m \n",
      "\n"
     ]
    },
    {
     "data": {
      "text/html": [
       "<div>\n",
       "<style scoped>\n",
       "    .dataframe tbody tr th:only-of-type {\n",
       "        vertical-align: middle;\n",
       "    }\n",
       "\n",
       "    .dataframe tbody tr th {\n",
       "        vertical-align: top;\n",
       "    }\n",
       "\n",
       "    .dataframe thead th {\n",
       "        text-align: right;\n",
       "    }\n",
       "</style>\n",
       "<table border=\"1\" class=\"dataframe\">\n",
       "  <thead>\n",
       "    <tr style=\"text-align: right;\">\n",
       "      <th></th>\n",
       "      <th>Интернет-трафик, МБ</th>\n",
       "    </tr>\n",
       "    <tr>\n",
       "      <th>Пол</th>\n",
       "      <th></th>\n",
       "    </tr>\n",
       "  </thead>\n",
       "  <tbody>\n",
       "    <tr>\n",
       "      <td>Ж</td>\n",
       "      <td>6586.29</td>\n",
       "    </tr>\n",
       "    <tr>\n",
       "      <td>М</td>\n",
       "      <td>7578.28</td>\n",
       "    </tr>\n",
       "  </tbody>\n",
       "</table>\n",
       "</div>"
      ],
      "text/plain": [
       "     Интернет-трафик, МБ\n",
       "Пол                     \n",
       "Ж                6586.29\n",
       "М                7578.28"
      ]
     },
     "execution_count": 506,
     "metadata": {},
     "output_type": "execute_result"
    }
   ],
   "source": [
    "print(\"\\n\", color.BOLD + color.GREEN + 'Сренее количество потребляемого трафика между мужчинами и женщинами' + color.END, \"\\n\")\n",
    "active.query('Пол != \"unknown\"').groupby(['Пол']).agg({'Интернет-трафик, МБ': 'mean'}).round(2)"
   ]
  },
  {
   "cell_type": "code",
   "execution_count": 507,
   "metadata": {},
   "outputs": [
    {
     "data": {
      "image/png": "[encoded data removed]",
      "text/plain": [
       "<Figure size 720x360 with 1 Axes>"
      ]
     },
     "metadata": {
      "needs_background": "light"
     },
     "output_type": "display_data"
    }
   ],
   "source": [
    "fig = plt.gcf()\n",
    "fig.set_size_inches(10, 5)\n",
    "sns.barplot(x = active.loc[active['Пол']!= 'unknown']['Пол'],  y = active['Интернет-трафик, Гб'])\n",
    "plt.show()"
   ]
  },
  {
   "cell_type": "code",
   "execution_count": 508,
   "metadata": {},
   "outputs": [
    {
     "data": {
      "image/png": "[encoded data removed]",
      "text/plain": [
       "<Figure size 1368x720 with 1 Axes>"
      ]
     },
     "metadata": {
      "needs_background": "light"
     },
     "output_type": "display_data"
    }
   ],
   "source": [
    "a = active.pivot_table(index = ['Тарифный план'], values = 'Интернет-трафик, МБ').sort_values(by=['Интернет-трафик, МБ']).reset_index()\n",
    "fig = plt.gcf()\n",
    "fig.set_size_inches(19, 10)\n",
    "sns.barplot(x = a['Тарифный план'], y = a['Интернет-трафик, МБ'])\n",
    "plt.axhline(a['Интернет-трафик, МБ'].median(), c='b', ls='--', \n",
    "            label = 'Медиана = {}'.format((a['Интернет-трафик, МБ'].median().round(2)))\n",
    "           )\n",
    "plt.legend()\n",
    "plt.xticks(rotation=45)\n",
    "plt.title('Среднее количество потребляемых мегабайт по тарифам')\n",
    "plt.show()"
   ]
  },
  {
   "cell_type": "code",
   "execution_count": 509,
   "metadata": {},
   "outputs": [
    {
     "data": {
      "image/png": "[encoded data removed]",
      "text/plain": [
       "<Figure size 720x504 with 1 Axes>"
      ]
     },
     "metadata": {
      "needs_background": "light"
     },
     "output_type": "display_data"
    }
   ],
   "source": [
    "a = active.pivot_table(index = ['Группа ТП'], values = 'Интернет-трафик, МБ').sort_values(by=['Интернет-трафик, МБ']).reset_index()\n",
    "fig = plt.gcf()\n",
    "fig.set_size_inches(10, 7)\n",
    "sns.barplot(x = a['Группа ТП'], y = a['Интернет-трафик, МБ'])\n",
    "plt.axhline(a['Интернет-трафик, МБ'].median(), c='b', ls='--', \n",
    "            label = 'Медиана = {}'.format((a['Интернет-трафик, МБ'].median().round(2)))\n",
    "           )\n",
    "plt.legend()\n",
    "plt.xticks(rotation=45)\n",
    "plt.title('Среднее количество потребляемых мегабайт по группам тарифов')\n",
    "plt.show()"
   ]
  },
  {
   "cell_type": "code",
   "execution_count": 510,
   "metadata": {
    "scrolled": true
   },
   "outputs": [
    {
     "data": {
      "image/png": "[encoded data removed]",
      "text/plain": [
       "<Figure size 720x576 with 1 Axes>"
      ]
     },
     "metadata": {
      "needs_background": "light"
     },
     "output_type": "display_data"
    }
   ],
   "source": [
    "a = active.pivot_table(index = ['Регион'], values = 'Интернет-трафик, МБ').sort_values(by=['Интернет-трафик, МБ']).reset_index()\n",
    "fig = plt.gcf()\n",
    "fig.set_size_inches(10, 8)\n",
    "sns.barplot(x = a['Регион'], y = a['Интернет-трафик, МБ'])\n",
    "plt.axhline(a['Интернет-трафик, МБ'].median(), c='b', ls='--', \n",
    "            label = 'Медиана = {}'.format((a['Интернет-трафик, МБ'].median().round(2)))\n",
    "           )\n",
    "plt.legend()\n",
    "plt.xticks(rotation=45)\n",
    "plt.title('Среднее количество потребляемых мегабайт по городам')\n",
    "plt.show()"
   ]
  },
  {
   "cell_type": "code",
   "execution_count": 511,
   "metadata": {},
   "outputs": [
    {
     "name": "stdout",
     "output_type": "stream",
     "text": [
      "\n",
      " \u001b[1m\u001b[92mДоля абонентов по городам\u001b[0m \n",
      "\n"
     ]
    },
    {
     "data": {
      "text/html": [
       "<div>\n",
       "<style scoped>\n",
       "    .dataframe tbody tr th:only-of-type {\n",
       "        vertical-align: middle;\n",
       "    }\n",
       "\n",
       "    .dataframe tbody tr th {\n",
       "        vertical-align: top;\n",
       "    }\n",
       "\n",
       "    .dataframe thead th {\n",
       "        text-align: right;\n",
       "    }\n",
       "</style>\n",
       "<table border=\"1\" class=\"dataframe\">\n",
       "  <thead>\n",
       "    <tr style=\"text-align: right;\">\n",
       "      <th></th>\n",
       "      <th>Интернет-трафик, МБ</th>\n",
       "    </tr>\n",
       "    <tr>\n",
       "      <th>Регион</th>\n",
       "      <th></th>\n",
       "    </tr>\n",
       "  </thead>\n",
       "  <tbody>\n",
       "    <tr>\n",
       "      <td>Брест</td>\n",
       "      <td>26.20</td>\n",
       "    </tr>\n",
       "    <tr>\n",
       "      <td>Витебск</td>\n",
       "      <td>25.51</td>\n",
       "    </tr>\n",
       "    <tr>\n",
       "      <td>Гомель</td>\n",
       "      <td>25.89</td>\n",
       "    </tr>\n",
       "    <tr>\n",
       "      <td>Гродно</td>\n",
       "      <td>24.91</td>\n",
       "    </tr>\n",
       "    <tr>\n",
       "      <td>Минск</td>\n",
       "      <td>26.57</td>\n",
       "    </tr>\n",
       "    <tr>\n",
       "      <td>Могилев</td>\n",
       "      <td>27.52</td>\n",
       "    </tr>\n",
       "  </tbody>\n",
       "</table>\n",
       "</div>"
      ],
      "text/plain": [
       "         Интернет-трафик, МБ\n",
       "Регион                      \n",
       "Брест                  26.20\n",
       "Витебск                25.51\n",
       "Гомель                 25.89\n",
       "Гродно                 24.91\n",
       "Минск                  26.57\n",
       "Могилев                27.52"
      ]
     },
     "execution_count": 511,
     "metadata": {},
     "output_type": "execute_result"
    }
   ],
   "source": [
    "print(\"\\n\", color.BOLD + color.GREEN + 'Доля абонентов по городам' + color.END, \"\\n\")\n",
    "(active.groupby(['Регион']).agg({'Интернет-трафик, МБ': 'mean'})/active.shape[0] * 100).round(2)"
   ]
  },
  {
   "cell_type": "markdown",
   "metadata": {},
   "source": [
    "**Разобьем обанентов по возрастным группам**"
   ]
  },
  {
   "cell_type": "code",
   "execution_count": 512,
   "metadata": {},
   "outputs": [],
   "source": [
    "label_ranges = [0, 15, 30, 45, 60, 80, np.inf]\n",
    "label_names = ['15 и младше', '15-30', '30-45', '45-60', '60-80', '80 и старше']\n",
    "# Create wait_type column\n",
    "active['Возрастные группы'] = pd.cut(active['Возраст'], bins = label_ranges, \n",
    "                                labels = label_names)"
   ]
  },
  {
   "cell_type": "code",
   "execution_count": 513,
   "metadata": {},
   "outputs": [
    {
     "data": {
      "image/png": "[encoded data removed]",
      "text/plain": [
       "<Figure size 1368x720 with 1 Axes>"
      ]
     },
     "metadata": {
      "needs_background": "light"
     },
     "output_type": "display_data"
    }
   ],
   "source": [
    "b = active.pivot_table(\n",
    "    index = ['Возрастные группы'], values = 'Интернет-трафик, МБ', aggfunc='mean').reset_index()\n",
    "b = b.sort_values(by= 'Интернет-трафик, МБ')\n",
    "#.sort_values(\n",
    " #   by=['Интернет-трафик, МБ']).reset_index()\n",
    "fig = plt.gcf()\n",
    "fig.set_size_inches(19, 10)\n",
    "sns.barplot(x = b['Возрастные группы'], y = b['Интернет-трафик, МБ'])\n",
    "plt.axhline(b['Интернет-трафик, МБ'].median(), c='b', ls='--', \n",
    "            label = 'Медиана = {}'.format((b['Интернет-трафик, МБ'].median().round(2))))\n",
    "plt.legend()\n",
    "plt.xticks(rotation=60)\n",
    "plt.title('Среднее количество потребляемых мегабайт по возрастам')\n",
    "plt.show()"
   ]
  },
  {
   "cell_type": "code",
   "execution_count": 514,
   "metadata": {
    "scrolled": true
   },
   "outputs": [
    {
     "name": "stdout",
     "output_type": "stream",
     "text": [
      "\n",
      " \u001b[1m\u001b[92mСтатистики показателей абонентов, актично потребляющих интернет-трафик\u001b[0m \n",
      "\n"
     ]
    },
    {
     "data": {
      "text/html": [
       "<div>\n",
       "<style scoped>\n",
       "    .dataframe tbody tr th:only-of-type {\n",
       "        vertical-align: middle;\n",
       "    }\n",
       "\n",
       "    .dataframe tbody tr th {\n",
       "        vertical-align: top;\n",
       "    }\n",
       "\n",
       "    .dataframe thead th {\n",
       "        text-align: right;\n",
       "    }\n",
       "</style>\n",
       "<table border=\"1\" class=\"dataframe\">\n",
       "  <thead>\n",
       "    <tr style=\"text-align: right;\">\n",
       "      <th></th>\n",
       "      <th>count</th>\n",
       "      <th>mean</th>\n",
       "      <th>std</th>\n",
       "      <th>min</th>\n",
       "      <th>25%</th>\n",
       "      <th>50%</th>\n",
       "      <th>75%</th>\n",
       "      <th>max</th>\n",
       "    </tr>\n",
       "  </thead>\n",
       "  <tbody>\n",
       "    <tr>\n",
       "      <td>Группа ТП</td>\n",
       "      <td>27080.0</td>\n",
       "      <td>1.0</td>\n",
       "      <td>1.0</td>\n",
       "      <td>1.0</td>\n",
       "      <td>1.0</td>\n",
       "      <td>1.0</td>\n",
       "      <td>1.0</td>\n",
       "      <td>3.0</td>\n",
       "    </tr>\n",
       "    <tr>\n",
       "      <td>Все начисления</td>\n",
       "      <td>27080.0</td>\n",
       "      <td>16.0</td>\n",
       "      <td>15.0</td>\n",
       "      <td>0.0</td>\n",
       "      <td>7.0</td>\n",
       "      <td>12.0</td>\n",
       "      <td>19.0</td>\n",
       "      <td>694.0</td>\n",
       "    </tr>\n",
       "    <tr>\n",
       "      <td>Начисления за интернет-трафик</td>\n",
       "      <td>27080.0</td>\n",
       "      <td>3.0</td>\n",
       "      <td>8.0</td>\n",
       "      <td>0.0</td>\n",
       "      <td>0.0</td>\n",
       "      <td>1.0</td>\n",
       "      <td>4.0</td>\n",
       "      <td>620.0</td>\n",
       "    </tr>\n",
       "    <tr>\n",
       "      <td>Начисления за входящие вызовы</td>\n",
       "      <td>27080.0</td>\n",
       "      <td>0.0</td>\n",
       "      <td>0.0</td>\n",
       "      <td>0.0</td>\n",
       "      <td>0.0</td>\n",
       "      <td>0.0</td>\n",
       "      <td>0.0</td>\n",
       "      <td>2.0</td>\n",
       "    </tr>\n",
       "    <tr>\n",
       "      <td>Начисления за исходящие вызовы</td>\n",
       "      <td>27080.0</td>\n",
       "      <td>5.0</td>\n",
       "      <td>9.0</td>\n",
       "      <td>0.0</td>\n",
       "      <td>1.0</td>\n",
       "      <td>3.0</td>\n",
       "      <td>6.0</td>\n",
       "      <td>609.0</td>\n",
       "    </tr>\n",
       "    <tr>\n",
       "      <td>Входящие вызовы, кол-во</td>\n",
       "      <td>27080.0</td>\n",
       "      <td>168.0</td>\n",
       "      <td>119.0</td>\n",
       "      <td>1.0</td>\n",
       "      <td>85.0</td>\n",
       "      <td>144.0</td>\n",
       "      <td>223.0</td>\n",
       "      <td>2497.0</td>\n",
       "    </tr>\n",
       "    <tr>\n",
       "      <td>Входящие вызовы, длит-ть в сек</td>\n",
       "      <td>27080.0</td>\n",
       "      <td>26363.0</td>\n",
       "      <td>25926.0</td>\n",
       "      <td>1.0</td>\n",
       "      <td>10436.0</td>\n",
       "      <td>19520.0</td>\n",
       "      <td>34158.0</td>\n",
       "      <td>595672.0</td>\n",
       "    </tr>\n",
       "    <tr>\n",
       "      <td>Исходящие вызовы, кол-во</td>\n",
       "      <td>27080.0</td>\n",
       "      <td>178.0</td>\n",
       "      <td>131.0</td>\n",
       "      <td>1.0</td>\n",
       "      <td>89.0</td>\n",
       "      <td>150.0</td>\n",
       "      <td>233.0</td>\n",
       "      <td>2127.0</td>\n",
       "    </tr>\n",
       "    <tr>\n",
       "      <td>Исходящие вызовы, длит-ть</td>\n",
       "      <td>27080.0</td>\n",
       "      <td>29319.0</td>\n",
       "      <td>29295.0</td>\n",
       "      <td>1.0</td>\n",
       "      <td>11278.0</td>\n",
       "      <td>21180.0</td>\n",
       "      <td>37486.0</td>\n",
       "      <td>495371.0</td>\n",
       "    </tr>\n",
       "    <tr>\n",
       "      <td>Интернет-трафик, МБ</td>\n",
       "      <td>27080.0</td>\n",
       "      <td>7094.0</td>\n",
       "      <td>15741.0</td>\n",
       "      <td>1640.0</td>\n",
       "      <td>2316.0</td>\n",
       "      <td>3573.0</td>\n",
       "      <td>6382.0</td>\n",
       "      <td>397357.0</td>\n",
       "    </tr>\n",
       "    <tr>\n",
       "      <td>Год активации</td>\n",
       "      <td>27080.0</td>\n",
       "      <td>2008.0</td>\n",
       "      <td>3.0</td>\n",
       "      <td>2002.0</td>\n",
       "      <td>2006.0</td>\n",
       "      <td>2008.0</td>\n",
       "      <td>2010.0</td>\n",
       "      <td>2013.0</td>\n",
       "    </tr>\n",
       "    <tr>\n",
       "      <td>Возраст</td>\n",
       "      <td>26182.0</td>\n",
       "      <td>40.0</td>\n",
       "      <td>11.0</td>\n",
       "      <td>13.0</td>\n",
       "      <td>32.0</td>\n",
       "      <td>37.0</td>\n",
       "      <td>48.0</td>\n",
       "      <td>99.0</td>\n",
       "    </tr>\n",
       "    <tr>\n",
       "      <td>Интернет-трафик, Гб</td>\n",
       "      <td>27080.0</td>\n",
       "      <td>7.0</td>\n",
       "      <td>16.0</td>\n",
       "      <td>2.0</td>\n",
       "      <td>2.0</td>\n",
       "      <td>4.0</td>\n",
       "      <td>6.0</td>\n",
       "      <td>397.0</td>\n",
       "    </tr>\n",
       "  </tbody>\n",
       "</table>\n",
       "</div>"
      ],
      "text/plain": [
       "                                  count     mean      std     min      25%  \\\n",
       "Группа ТП                       27080.0      1.0      1.0     1.0      1.0   \n",
       "Все начисления                  27080.0     16.0     15.0     0.0      7.0   \n",
       "Начисления за интернет-трафик   27080.0      3.0      8.0     0.0      0.0   \n",
       "Начисления за входящие вызовы   27080.0      0.0      0.0     0.0      0.0   \n",
       "Начисления за исходящие вызовы  27080.0      5.0      9.0     0.0      1.0   \n",
       "Входящие вызовы, кол-во         27080.0    168.0    119.0     1.0     85.0   \n",
       "Входящие вызовы, длит-ть в сек  27080.0  26363.0  25926.0     1.0  10436.0   \n",
       "Исходящие вызовы, кол-во        27080.0    178.0    131.0     1.0     89.0   \n",
       "Исходящие вызовы, длит-ть       27080.0  29319.0  29295.0     1.0  11278.0   \n",
       "Интернет-трафик, МБ             27080.0   7094.0  15741.0  1640.0   2316.0   \n",
       "Год активации                   27080.0   2008.0      3.0  2002.0   2006.0   \n",
       "Возраст                         26182.0     40.0     11.0    13.0     32.0   \n",
       "Интернет-трафик, Гб             27080.0      7.0     16.0     2.0      2.0   \n",
       "\n",
       "                                    50%      75%       max  \n",
       "Группа ТП                           1.0      1.0       3.0  \n",
       "Все начисления                     12.0     19.0     694.0  \n",
       "Начисления за интернет-трафик       1.0      4.0     620.0  \n",
       "Начисления за входящие вызовы       0.0      0.0       2.0  \n",
       "Начисления за исходящие вызовы      3.0      6.0     609.0  \n",
       "Входящие вызовы, кол-во           144.0    223.0    2497.0  \n",
       "Входящие вызовы, длит-ть в сек  19520.0  34158.0  595672.0  \n",
       "Исходящие вызовы, кол-во          150.0    233.0    2127.0  \n",
       "Исходящие вызовы, длит-ть       21180.0  37486.0  495371.0  \n",
       "Интернет-трафик, МБ              3573.0   6382.0  397357.0  \n",
       "Год активации                    2008.0   2010.0    2013.0  \n",
       "Возраст                            37.0     48.0      99.0  \n",
       "Интернет-трафик, Гб                 4.0      6.0     397.0  "
      ]
     },
     "execution_count": 514,
     "metadata": {},
     "output_type": "execute_result"
    }
   ],
   "source": [
    "print(\"\\n\", color.BOLD + color.GREEN + 'Статистики показателей абонентов, актично потребляющих интернет-трафик' + color.END, \"\\n\")\n",
    "active.describe().transpose().round()"
   ]
  },
  {
   "cell_type": "markdown",
   "metadata": {},
   "source": [
    "## Вывод"
   ]
  },
  {
   "cell_type": "markdown",
   "metadata": {},
   "source": [
    "1.1. В качестве порога, с которого начинается активное потребление интернет трафика выбран 3-й квартиль всех данных, эквивалентный 1640 мб.  \n",
    "1.2. В результате расчетов получился следующий профиль абонента, активно потребляющего интернет:\n",
    " * численость активных пользователей интернет составила 27 тыс из 108 тыс абонентов за предложенный месяц;\n",
    " * в среднем активный потребитель интернета приносят 16 рублей в месяц общих начислений;\n",
    " * тратит на разговоры в среднем 431 минуту в месяц;\n",
    " * расходует в среднем 7105 мегабайт интернет-трафика;\n",
    " *  и являются абонентами компании более 12 лет\n",
    " * средний возраст такого абонента от 39 до 41 года\n",
    "1.3. Дополнительно можно выделить следующие характеристики:\n",
    " * в среднем же, группа абонентов после 15 лет имеют средний объем потребления интернета;\n",
    "  * одинаково абоненты распределены по регионам;\n",
    " * сильно выделяются абонет имеющий тарифный план ТП 37, но это скорее особенность, а не характерное описание;\n",
    " * так же выбиваются абоненты преклонного возраста после 80, у них отмечается максимальное потребление трафика;\n",
    " * а так де практически одинаковое соотношение мужчин и женщин (53% - мужчин? 47% - женщин)  \n",
    " \n",
    "2. Было бы неплохо посмотреть такие показатели, как объем роуминга, смс, а так же данные за несколько месяцев. Были найдены абоненты у которых суммма общих начислений ниже, че сумма начислений за интернет, что странно. Информация о количестве звонков, исходящие и входящие звонки для меня была избыточной."
   ]
  }
 ],
 "metadata": {
  "kernelspec": {
   "display_name": "Python 3",
   "language": "python",
   "name": "python3"
  },
  "language_info": {
   "codemirror_mode": {
    "name": "ipython",
    "version": 3
   },
   "file_extension": ".py",
   "mimetype": "text/x-python",
   "name": "python",
   "nbconvert_exporter": "python",
   "pygments_lexer": "ipython3",
   "version": "3.7.8"
  },
  "toc": {
   "base_numbering": 1,
   "nav_menu": {},
   "number_sections": true,
   "sideBar": true,
   "skip_h1_title": true,
   "title_cell": "Table of Contents",
   "title_sidebar": "Contents",
   "toc_cell": false,
   "toc_position": {},
   "toc_section_display": true,
   "toc_window_display": false
  }
 },
 "nbformat": 4,
 "nbformat_minor": 2
}
